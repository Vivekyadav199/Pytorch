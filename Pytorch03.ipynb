{
 "cells": [
  {
   "cell_type": "markdown",
   "metadata": {},
   "source": [
    "# **PyTorch WorkFlow**\n",
    "\n",
    "let`s explore a an example Pytorch end-to-end workflow\n",
    "\n"
   ]
  },
  {
   "cell_type": "code",
   "execution_count": 774,
   "metadata": {},
   "outputs": [
    {
     "data": {
      "text/plain": [
       "{1: 'data (prepare and load)',\n",
       " 2: 'build model',\n",
       " 3: 'fitting the model to data(training)',\n",
       " 4: 'making predictions and evaluating a model (inference)',\n",
       " 5: 'saving and loading a model',\n",
       " 6: 'putting it all together'}"
      ]
     },
     "execution_count": 774,
     "metadata": {},
     "output_type": "execute_result"
    }
   ],
   "source": [
    "what_were_concering = {1: \"data (prepare and load)\",\n",
    "                       2: \"build model\",\n",
    "                       3: \"fitting the model to data(training)\",\n",
    "                       4: \"making predictions and evaluating a model (inference)\",\n",
    "                       5: \"saving and loading a model\",\n",
    "                       6: \"putting it all together\"}\n",
    "what_were_concering"
   ]
  },
  {
   "cell_type": "markdown",
   "metadata": {},
   "source": []
  },
  {
   "cell_type": "code",
   "execution_count": 775,
   "metadata": {},
   "outputs": [
    {
     "data": {
      "text/plain": [
       "'2.3.0+cu121'"
      ]
     },
     "execution_count": 775,
     "metadata": {},
     "output_type": "execute_result"
    }
   ],
   "source": [
    "import torch\n",
    "from torch import nn # nn contains all of PyTorch's building blocks for neural networks (https://pytorch.org/docs/stable/nn.html)\n",
    "import matplotlib.pyplot as plt\n",
    "\n",
    "torch.__version__\n"
   ]
  },
  {
   "cell_type": "markdown",
   "metadata": {},
   "source": [
    "## 1. Data (preparing and loading)\n",
    "Data can be anything... in machine learning.\n",
    "\n",
    "* Excel spreadsheet\n",
    "* Image of any kind\n",
    "* Videos (Youtube or etc)\n",
    "* Audio like song or prodcasts\n",
    "* DNA \n",
    "* Text\n",
    "* etc... many more\n",
    "\n",
    "Machine learning is a game of tow parts:\n",
    "\n",
    "* Get data into a numerical representation.\n",
    "* build a `model` to learn `Patterns` in the `numerical representaion`.\n",
    "\n",
    "To showcase this, let's create some `Known` data using the `linear regression1` formula = `y = mx + c`\n",
    "\n",
    "* The simple linear regression line, ^y=a+bx y ^ = a + b x , can be #interpreted as follows: ^y is the predicted value of y , a is the intercept and predicts where the regression line will cross the y -axis, b predicts the change in y for every unit change in x .\n",
    "\n",
    " We'll use a linear regression fomula to make a straight line with **known** `Parameters`\n",
    "\n",
    "\n"
   ]
  },
  {
   "cell_type": "code",
   "execution_count": 776,
   "metadata": {},
   "outputs": [
    {
     "data": {
      "text/plain": [
       "(tensor([[0.0000],\n",
       "         [0.0200],\n",
       "         [0.0400],\n",
       "         [0.0600],\n",
       "         [0.0800],\n",
       "         [0.1000],\n",
       "         [0.1200],\n",
       "         [0.1400],\n",
       "         [0.1600],\n",
       "         [0.1800]]),\n",
       " tensor([[0.3000],\n",
       "         [0.3140],\n",
       "         [0.3280],\n",
       "         [0.3420],\n",
       "         [0.3560],\n",
       "         [0.3700],\n",
       "         [0.3840],\n",
       "         [0.3980],\n",
       "         [0.4120],\n",
       "         [0.4260]]))"
      ]
     },
     "execution_count": 776,
     "metadata": {},
     "output_type": "execute_result"
    }
   ],
   "source": [
    "# Create *known* Parameters\n",
    "weight = 0.7\n",
    "bias = 0.3\n",
    "\n",
    "# Create\n",
    "start = 0\n",
    "end = 1\n",
    "step = 0.02\n",
    "X = torch.arange(start,end,step).unsqueeze(dim=1)\n",
    "y = weight*X +bias\n",
    "\n",
    "\n",
    "X[:10], y[:10]\n",
    "\n",
    "\n"
   ]
  },
  {
   "cell_type": "code",
   "execution_count": 777,
   "metadata": {},
   "outputs": [
    {
     "data": {
      "text/plain": [
       "(50, 50)"
      ]
     },
     "execution_count": 777,
     "metadata": {},
     "output_type": "execute_result"
    }
   ],
   "source": [
    "len(X), len(y)"
   ]
  },
  {
   "cell_type": "markdown",
   "metadata": {},
   "source": [
    "### Splitting data into training and test sets(one of moxt import concept in machine learning in gerneral)\n",
    "lets creat ea training and test set with our data.\n",
    "\n"
   ]
  },
  {
   "cell_type": "code",
   "execution_count": 778,
   "metadata": {},
   "outputs": [
    {
     "data": {
      "text/plain": [
       "(40, 10, 40, 10)"
      ]
     },
     "execution_count": 778,
     "metadata": {},
     "output_type": "execute_result"
    }
   ],
   "source": [
    "#create a train/test split\n",
    "train_split = int(0.8*len(X))\n",
    "X_train, y_train = X[:train_split], y[:train_split]\n",
    "X_test, y_test = X[train_split:], y[train_split:]\n",
    "\n",
    "len(X_train), len(X_test), len(y_train), len(y_test)"
   ]
  },
  {
   "cell_type": "code",
   "execution_count": 779,
   "metadata": {},
   "outputs": [
    {
     "data": {
      "text/plain": [
       "(tensor([[0.0000],\n",
       "         [0.0200],\n",
       "         [0.0400],\n",
       "         [0.0600],\n",
       "         [0.0800],\n",
       "         [0.1000],\n",
       "         [0.1200],\n",
       "         [0.1400],\n",
       "         [0.1600],\n",
       "         [0.1800],\n",
       "         [0.2000],\n",
       "         [0.2200],\n",
       "         [0.2400],\n",
       "         [0.2600],\n",
       "         [0.2800],\n",
       "         [0.3000],\n",
       "         [0.3200],\n",
       "         [0.3400],\n",
       "         [0.3600],\n",
       "         [0.3800],\n",
       "         [0.4000],\n",
       "         [0.4200],\n",
       "         [0.4400],\n",
       "         [0.4600],\n",
       "         [0.4800],\n",
       "         [0.5000],\n",
       "         [0.5200],\n",
       "         [0.5400],\n",
       "         [0.5600],\n",
       "         [0.5800],\n",
       "         [0.6000],\n",
       "         [0.6200],\n",
       "         [0.6400],\n",
       "         [0.6600],\n",
       "         [0.6800],\n",
       "         [0.7000],\n",
       "         [0.7200],\n",
       "         [0.7400],\n",
       "         [0.7600],\n",
       "         [0.7800]]),\n",
       " tensor([[0.3000],\n",
       "         [0.3140],\n",
       "         [0.3280],\n",
       "         [0.3420],\n",
       "         [0.3560],\n",
       "         [0.3700],\n",
       "         [0.3840],\n",
       "         [0.3980],\n",
       "         [0.4120],\n",
       "         [0.4260],\n",
       "         [0.4400],\n",
       "         [0.4540],\n",
       "         [0.4680],\n",
       "         [0.4820],\n",
       "         [0.4960],\n",
       "         [0.5100],\n",
       "         [0.5240],\n",
       "         [0.5380],\n",
       "         [0.5520],\n",
       "         [0.5660],\n",
       "         [0.5800],\n",
       "         [0.5940],\n",
       "         [0.6080],\n",
       "         [0.6220],\n",
       "         [0.6360],\n",
       "         [0.6500],\n",
       "         [0.6640],\n",
       "         [0.6780],\n",
       "         [0.6920],\n",
       "         [0.7060],\n",
       "         [0.7200],\n",
       "         [0.7340],\n",
       "         [0.7480],\n",
       "         [0.7620],\n",
       "         [0.7760],\n",
       "         [0.7900],\n",
       "         [0.8040],\n",
       "         [0.8180],\n",
       "         [0.8320],\n",
       "         [0.8460]]))"
      ]
     },
     "execution_count": 779,
     "metadata": {},
     "output_type": "execute_result"
    }
   ],
   "source": [
    "X_train, y_train"
   ]
  },
  {
   "cell_type": "code",
   "execution_count": 780,
   "metadata": {},
   "outputs": [],
   "source": [
    "def plot_predictions(train_data = X_train,\n",
    "                     train_label = y_train,\n",
    "                     test_data = X_test,\n",
    "                     test_label = y_test,\n",
    "                     predictions = None):\n",
    "    plt.figure(figsize = (10, 7))\n",
    "\n",
    "    #plot traing data in blue\n",
    "    plt.scatter(train_data, train_label, c = \"b\", s = 4, label = \"Training data\")  \n",
    "\n",
    "    #plot test data in red\n",
    "    plt.scatter(test_data, test_label, c = \"r\", s = 4, label = \"Testing data\")\n",
    "\n",
    "    #are there predictions\n",
    "    if predictions is not None:\n",
    "        #plot the predictions if they exist\n",
    "        plt.scatter(test_data, predictions, c = \"g\", s = 4, label = \"Predictions\")\n",
    "    \n",
    "    #show the legends\n",
    "    plt.legend(prop={\"size\": 14});\n",
    " "
   ]
  },
  {
   "cell_type": "code",
   "execution_count": 781,
   "metadata": {},
   "outputs": [
    {
     "data": {
      "image/png": "[encoded data removed]",
      "text/plain": [
       "<Figure size 1000x700 with 1 Axes>"
      ]
     },
     "metadata": {},
     "output_type": "display_data"
    }
   ],
   "source": [
    "plot_predictions(X_train, y_train, X_test, y_test)"
   ]
  },
  {
   "cell_type": "markdown",
   "metadata": {},
   "source": [
    "## 2. Build a model\n",
    "• Our first pytorch model!\n",
    "\n",
    "• Oops concept from the resource **https://realpython.com/python-classes/**•"
   ]
  },
  {
   "cell_type": "markdown",
   "metadata": {},
   "source": [
    "Through tow main `algorithms:`  \n",
    "\n",
    "• `Gradient descent`\n",
    "\n",
    "• `Backpropagation`\n",
    "\n",
    "\n",
    "\n",
    "\n",
    "\n",
    "\n"
   ]
  },
  {
   "cell_type": "code",
   "execution_count": 782,
   "metadata": {},
   "outputs": [],
   "source": [
    "# create linear regression model class\n",
    "class LinearRegressionModel(nn.Module): # <- almost everything in PyTorch inherits from nn.Module\n",
    "    def __init__(self): #Initialize model parameters\n",
    "        super().__init__()\n",
    "        self.weights = nn.Parameter(torch.randn(1,requires_grad = True,\n",
    "                                                dtype = torch.float))\n",
    "        \n",
    "        self.bias = nn.Parameter(torch.rand(1,requires_grad=True,\n",
    "                                           dtype = torch.float))\n",
    "    #forward method to define the computation in the model\n",
    "    def forward(self, x: torch.Tensor) -> torch.Tensor: #<-x is the linear regression formula \n",
    "        return self.weights * x + self.bias #this is the linear regression formula\n",
    "\n",
    "#set manual seed\n",
    "#torch.manual_seed(42)\n"
   ]
  },
  {
   "cell_type": "markdown",
   "metadata": {},
   "source": [
    "•Subclass`nn.models:` this contains all the building blocks for neural networks\n",
    "\n",
    "•`def __init__(self):`\n",
    "        \n",
    "        super().__init__()\n",
    "        \n",
    "        self.weights = nn.Parameter(torch.randn(1,requires_grad = True,\n",
    "                                                dtype = torch.float))\n",
    "        \n",
    "        \n",
    " Initialise `model parameters` to be used in various computation(this could be diffrent layers from `torch.nn` single parameters, hard_coded values or functions)\n",
    "\n",
    "•`...`self.bias = nn.Parameter(torch.rand(1,requires_grad=True,\n",
    "                                           dtype = torch.float))\n",
    "                                           \n",
    "  `requires_grad = true` means pytorch will track the gradient of this specific parameter for use with `torch.autograde` and gradient descent (for many `torch.nn` models, `requires_grade = true` is set by default)"
   ]
  },
  {
   "cell_type": "markdown",
   "metadata": {},
   "source": [
    "### **PyTorch model building essentials**\n",
    "\n",
    "• `torch.nn` - contains all of the building for computational graphs ( a neural networks can be considered a `computational` )\n",
    "\n",
    "• `torch.nn.Parameter` - what parameters should our model try and learn, often a Pytorch layer from `torch.nn` will set for us\n",
    "\n",
    "• `torch.nn.Module` - The base class for all neural network, if you subclass it, you should `overwrite forward()`\n",
    "\n",
    "• `torch.optim` - this where the optimizers in `PyTorch` live, they will help with `gradient descent`\n",
    "\n",
    "• `def forward()` - All nn.Module subclass requires you to overwrite `forward()` , this method defines what happens in the foward computation\n",
    "\n"
   ]
  },
  {
   "cell_type": "markdown",
   "metadata": {},
   "source": [
    "### **Checking the content of our Pyorch Model**\n",
    "\n",
    "•Now we've created a model , lets see what's inside..\n",
    "\n",
    "•So we can check our model parameters or what's inside our model using . `parameters()`"
   ]
  },
  {
   "cell_type": "code",
   "execution_count": 783,
   "metadata": {},
   "outputs": [],
   "source": [
    "#torch.randn(1)\n",
    "#torch.manual_seed(42)\n",
    "#torch.randn(1)"
   ]
  },
  {
   "cell_type": "code",
   "execution_count": 784,
   "metadata": {},
   "outputs": [
    {
     "data": {
      "text/plain": [
       "[Parameter containing:\n",
       " tensor([0.3367], requires_grad=True),\n",
       " Parameter containing:\n",
       " tensor([0.3904], requires_grad=True)]"
      ]
     },
     "execution_count": 784,
     "metadata": {},
     "output_type": "execute_result"
    }
   ],
   "source": [
    "#torch.randn(2)\n",
    "# create a random seed\n",
    "torch.manual_seed(42)\n",
    "\n",
    "#create an instance of the model(this is a subclass of nn.Module)\n",
    "model_0 = LinearRegressionModel()\n",
    "\n",
    "model_0\n",
    "#check out the parameters\n",
    "list(model_0.parameters())"
   ]
  },
  {
   "cell_type": "code",
   "execution_count": 785,
   "metadata": {},
   "outputs": [
    {
     "data": {
      "text/plain": [
       "OrderedDict([('weights', tensor([0.3367])), ('bias', tensor([0.3904]))])"
      ]
     },
     "execution_count": 785,
     "metadata": {},
     "output_type": "execute_result"
    }
   ],
   "source": [
    "# list named parameters\n",
    "model_0.state_dict()"
   ]
  },
  {
   "cell_type": "code",
   "execution_count": 786,
   "metadata": {},
   "outputs": [
    {
     "data": {
      "text/plain": [
       "(0.7, 0.3)"
      ]
     },
     "execution_count": 786,
     "metadata": {},
     "output_type": "execute_result"
    }
   ],
   "source": [
    "weight, bias"
   ]
  },
  {
   "cell_type": "markdown",
   "metadata": {},
   "source": [
    "### **Making prediction using `torch.inference_mode()`**\n",
    " \n",
    "To check our model's `predict power`let's see how well it predict `Y_test` based on `X_test`\n",
    "\n",
    "Whene we pass data through our model, it's going to run it trough the `forward()` method"
   ]
  },
  {
   "cell_type": "code",
   "execution_count": 787,
   "metadata": {},
   "outputs": [
    {
     "data": {
      "text/plain": [
       "(tensor([[0.8000],\n",
       "         [0.8200],\n",
       "         [0.8400],\n",
       "         [0.8600],\n",
       "         [0.8800],\n",
       "         [0.9000],\n",
       "         [0.9200],\n",
       "         [0.9400],\n",
       "         [0.9600],\n",
       "         [0.9800]]),\n",
       " tensor([[0.8600],\n",
       "         [0.8740],\n",
       "         [0.8880],\n",
       "         [0.9020],\n",
       "         [0.9160],\n",
       "         [0.9300],\n",
       "         [0.9440],\n",
       "         [0.9580],\n",
       "         [0.9720],\n",
       "         [0.9860]]))"
      ]
     },
     "execution_count": 787,
     "metadata": {},
     "output_type": "execute_result"
    }
   ],
   "source": [
    "X_test, y_test"
   ]
  },
  {
   "cell_type": "markdown",
   "metadata": {},
   "source": [
    "see more about `inference` mode\n",
    "it dosent required or allow to track of `grad desent` or some thing like this "
   ]
  },
  {
   "cell_type": "code",
   "execution_count": 788,
   "metadata": {},
   "outputs": [
    {
     "data": {
      "text/plain": [
       "tensor([[0.6598],\n",
       "        [0.6665],\n",
       "        [0.6733],\n",
       "        [0.6800],\n",
       "        [0.6867],\n",
       "        [0.6935],\n",
       "        [0.7002],\n",
       "        [0.7069],\n",
       "        [0.7137],\n",
       "        [0.7204]])"
      ]
     },
     "execution_count": 788,
     "metadata": {},
     "output_type": "execute_result"
    }
   ],
   "source": [
    "#make predictions with model\n",
    "with torch.inference_mode():\n",
    "    y_preds = model_0(X_test)\n",
    "\n",
    "#  You cqan also do something similar with torch.no_grad(), however, torch.inference_mode() is preferred\n",
    "#  torch.no_grad() as well\n",
    "\n",
    "y_preds"
   ]
  },
  {
   "cell_type": "code",
   "execution_count": 789,
   "metadata": {},
   "outputs": [
    {
     "data": {
      "text/plain": [
       "tensor([[0.8600],\n",
       "        [0.8740],\n",
       "        [0.8880],\n",
       "        [0.9020],\n",
       "        [0.9160],\n",
       "        [0.9300],\n",
       "        [0.9440],\n",
       "        [0.9580],\n",
       "        [0.9720],\n",
       "        [0.9860]])"
      ]
     },
     "execution_count": 789,
     "metadata": {},
     "output_type": "execute_result"
    }
   ],
   "source": [
    "y_test\n",
    "\n"
   ]
  },
  {
   "cell_type": "code",
   "execution_count": 790,
   "metadata": {},
   "outputs": [
    {
     "data": {
      "image/png": "[encoded data removed]",
      "text/plain": [
       "<Figure size 1000x700 with 1 Axes>"
      ]
     },
     "metadata": {},
     "output_type": "display_data"
    }
   ],
   "source": [
    "plot_predictions(predictions =y_preds)"
   ]
  },
  {
   "cell_type": "markdown",
   "metadata": {},
   "source": [
    "### 3. **Train model**\n",
    "\n",
    "• The whole idea of training is for a model to move frome *unknown parameters* (these may be random)to the *Known parameters*.\n",
    "\n",
    "•On in other words from a poor representation of the data better representation of the data\n",
    "\n",
    "• One way to messure how poor or how wrong your models prediction are is to use a `loss function`\n",
    "\n",
    "* Note: `Loss function may` also be called `cost function` or `criterion` in diffrent areas. For our case, we're going to refer to it as `loss function`\n",
    "\n",
    "Things we need to Train:\n",
    "\n",
    "**• Loss Function:** A function to mesure how wrong your model's prediction are to the ideal outpout, Lower is better.\n",
    "\n",
    "**• Optimizer:** Takes into account the loss of a model and adjust teh model's parameters (e.g. weights & bias in our case) to improve the loss Function\n",
    "\n",
    "* Inside the optimizer you'll often have to set two parameters:\n",
    "\n",
    "    * `params` - the model parameters you'd like to optimize, for example \n",
    "    `params=model_0.parameters()`\n",
    "\n",
    "    * `lr` (learning rate) - the learning rate is a hyperparameter that defines how big/small the optimizer changes the parameters with each step (a small `lr` results in small changes, a large `lr` results in large changes)\n",
    "\n",
    "\n",
    "\n"
   ]
  },
  {
   "cell_type": "markdown",
   "metadata": {},
   "source": [
    "How does it do so?\n",
    "\n",
    "Through two main algorithms:\n",
    "\n",
    "Gradient descent - https://youtu.be/IHZwWFHWa-w\n",
    "\n",
    "Backpropagation - https://youtu.be/Ilg3gGewQ5U"
   ]
  },
  {
   "cell_type": "code",
   "execution_count": 791,
   "metadata": {},
   "outputs": [
    {
     "data": {
      "text/plain": [
       "[Parameter containing:\n",
       " tensor([0.3367], requires_grad=True),\n",
       " Parameter containing:\n",
       " tensor([0.3904], requires_grad=True)]"
      ]
     },
     "execution_count": 791,
     "metadata": {},
     "output_type": "execute_result"
    }
   ],
   "source": [
    "list(model_0.parameters())"
   ]
  },
  {
   "cell_type": "code",
   "execution_count": 792,
   "metadata": {},
   "outputs": [
    {
     "data": {
      "text/plain": [
       "OrderedDict([('weights', tensor([0.3367])), ('bias', tensor([0.3904]))])"
      ]
     },
     "execution_count": 792,
     "metadata": {},
     "output_type": "execute_result"
    }
   ],
   "source": [
    "model_0.state_dict() #check out our model's parameters (a parameter is a value that the model sets itself)"
   ]
  },
  {
   "cell_type": "code",
   "execution_count": 793,
   "metadata": {},
   "outputs": [],
   "source": [
    "# Setup a loss function\n",
    "loss_fn = nn.L1Loss() # MAE loss is same as L1\n",
    "\n",
    "# Setup an optimizer (stochastic gradient descent)\n",
    "optimizer = torch.optim.SGD(params = model_0.parameters(), lr = 0.01) #lr = learning rate"
   ]
  },
  {
   "cell_type": "markdown",
   "metadata": {},
   "source": [
    "#### Output explanation Of the output(`Optimizer`)\n",
    "\n",
    "* **https://chatgpt.com/share/7d8337d1-4ec6-409d-a23d-5a0a77db58b2**"
   ]
  },
  {
   "cell_type": "markdown",
   "metadata": {},
   "source": [
    "### Creating an optimization loop in PyTorch\n",
    "\n",
    "Now we've got a loss function and an optimizer, it's now time to create a **training loop** (and **testing loop**)."
   ]
  },
  {
   "cell_type": "markdown",
   "metadata": {},
   "source": [
    "\n",
    "\n",
    "### PyTorch training loop\n",
    "For the training loop, we'll build the following steps:\n",
    "\n",
    "| Number | Step name | What does it do? | Code example |\n",
    "| ----- | ----- | ----- | ----- |\n",
    "| 1 | Forward pass | The model goes through all of the training data once, performing its `forward()` function calculations. | `model(x_train)` |\n",
    "| 2 | Calculate the loss | The model's outputs (predictions) are compared to the ground truth and evaluated to see how wrong they are. | `loss = loss_fn(y_pred, y_train)` | \n",
    "| 3 | Zero gradients | The optimizers gradients are set to zero (they are accumulated by default) so they can be recalculated for the specific training step. | `optimizer.zero_grad()` |\n",
    "| 4 | Perform backpropagation on the loss | Computes the gradient of the loss with respect for every model parameter to be updated  (each parameter with `requires_grad=True`). This is known as **backpropagation**, hence \"backwards\".  | `loss.backward()` |\n",
    "| 5 | Update the optimizer (**gradient descent**) | Update the parameters with `requires_grad=True` with respect to the loss gradients in order to improve them. | `optimizer.step()` |\n",
    "\n",
    "![pytorch training loop annotated](https://raw.githubusercontent.com/mrdbourke/pytorch-deep-learning/main/images/01-pytorch-training-loop-annotated.png)\n",
    "\n",
    "> **Note:** The above is just one example of how the steps could be ordered or described. With experience you'll find making PyTorch training loops can be quite flexible.\n",
    ">\n",
    "> And on the ordering of things, the above is a good default order but you may see slightly different orders. Some rules of thumb: \n",
    "> * Calculate the loss (`loss = ...`) *before* performing backpropagation on it (`loss.backward()`).\n",
    "> * Zero gradients (`optimizer.zero_grad()`) *before* stepping them (`optimizer.step()`).\n",
    "> * Step the optimizer (`optimizer.step()`) *after* performing backpropagation on the loss (`loss.backward()`).\n",
    "\n",
    "For resources to help understand what's happening behind the scenes with backpropagation and gradient descent, see the extra-curriculum section.\n"
   ]
  },
  {
   "cell_type": "markdown",
   "metadata": {},
   "source": [
    "\n",
    "### PyTorch testing loop\n",
    "\n",
    "As for the testing loop (evaluating our model), the typical steps include:\n",
    "\n",
    "| Number | Step name | What does it do? | Code example |\n",
    "| ----- | ----- | ----- | ----- |\n",
    "| 1 | Forward pass | The model goes through all of the training data once, performing its `forward()` function calculations. | `model(x_test)` |\n",
    "| 2 | Calculate the loss | The model's outputs (predictions) are compared to the ground truth and evaluated to see how wrong they are. | `loss = loss_fn(y_pred, y_test)` | \n",
    "| 3 | Calulate evaluation metrics (optional) | Alongisde the loss value you may want to calculate other evaluation metrics such as accuracy on the test set. | Custom functions |\n",
    "\n",
    "Notice the testing loop doesn't contain performing backpropagation (`loss.backward()`) or stepping the optimizer (`optimizer.step()`), this is because no parameters in the model are being changed during testing, they've already been calculated. For testing, we're only interested in the output of the forward pass through the model.\n",
    "\n",
    "![pytorch annotated testing loop](https://raw.githubusercontent.com/mrdbourke/pytorch-deep-learning/main/images/01-pytorch-testing-loop-annotated.png)\n",
    "\n",
    "Let's put all of the above together and train our model for 100 **epochs** (forward passes through the data) and we'll evaluate it every 10 epochs.\n"
   ]
  },
  {
   "cell_type": "code",
   "execution_count": 794,
   "metadata": {},
   "outputs": [
    {
     "name": "stdout",
     "output_type": "stream",
     "text": [
      "loss: 0.08169572055339813\n",
      "Epoch: 0 | MAE Train Loss: 0.08169572055339813 | MAE Test Loss: 0.22662055492401123 \n",
      "loss: 0.07951223105192184\n",
      "loss: 0.07771821320056915\n",
      "loss: 0.07596267759799957\n",
      "loss: 0.07452543079853058\n",
      "loss: 0.07310795783996582\n",
      "loss: 0.07197895646095276\n",
      "loss: 0.0708499550819397\n",
      "loss: 0.0698218122124672\n",
      "loss: 0.06895165145397186\n",
      "loss: 0.06808149069547653\n",
      "Epoch: 10 | MAE Train Loss: 0.06808149069547653 | MAE Test Loss: 0.1807345449924469 \n",
      "loss: 0.06732632219791412\n",
      "loss: 0.06666463613510132\n",
      "loss: 0.06600294262170792\n",
      "loss: 0.06540142744779587\n",
      "loss: 0.06489682197570801\n",
      "loss: 0.06439221650362015\n",
      "loss: 0.06388760358095169\n",
      "loss: 0.06338393688201904\n",
      "loss: 0.062983937561512\n",
      "loss: 0.06258393079042435\n",
      "Epoch: 20 | MAE Train Loss: 0.06258393079042435 | MAE Test Loss: 0.15627031028270721 \n",
      "loss: 0.062183927744627\n",
      "loss: 0.06178393214941025\n",
      "loss: 0.0613839253783226\n",
      "loss: 0.06098393350839615\n",
      "loss: 0.0605839304625988\n",
      "loss: 0.06018794700503349\n",
      "loss: 0.05983894318342209\n",
      "loss: 0.059489935636520386\n",
      "loss: 0.05914094299077988\n",
      "loss: 0.05879194289445877\n",
      "Epoch: 30 | MAE Train Loss: 0.05879194289445877 | MAE Test Loss: 0.1418602615594864 \n",
      "loss: 0.058442939072847366\n",
      "loss: 0.05809393525123596\n",
      "loss: 0.057744938880205154\n",
      "loss: 0.057395946234464645\n",
      "loss: 0.05704693868756294\n",
      "loss: 0.05669793486595154\n",
      "loss: 0.05634894222021103\n",
      "loss: 0.05599994212388992\n",
      "loss: 0.055650949478149414\n",
      "loss: 0.05530194193124771\n",
      "Epoch: 40 | MAE Train Loss: 0.05530194193124771 | MAE Test Loss: 0.13084018230438232 \n",
      "loss: 0.0549529492855072\n",
      "loss: 0.0546039454638958\n",
      "loss: 0.05425494909286499\n",
      "loss: 0.053905945271253586\n",
      "loss: 0.05355694144964218\n",
      "loss: 0.053207945078611374\n",
      "loss: 0.05285894125699997\n",
      "loss: 0.05250995233654976\n",
      "loss: 0.052160948514938354\n",
      "loss: 0.051822252571582794\n",
      "Epoch: 50 | MAE Train Loss: 0.051822252571582794 | MAE Test Loss: 0.12050700187683105 \n",
      "loss: 0.05147574469447136\n",
      "loss: 0.05113323777914047\n",
      "loss: 0.050790537148714066\n",
      "loss: 0.05044422671198845\n",
      "loss: 0.050105344504117966\n",
      "loss: 0.04975634068250656\n",
      "loss: 0.04941902309656143\n",
      "loss: 0.049071140587329865\n",
      "loss: 0.04873000830411911\n",
      "loss: 0.04838593676686287\n",
      "Epoch: 60 | MAE Train Loss: 0.04838593676686287 | MAE Test Loss: 0.11223447322845459 \n",
      "loss: 0.048041004687547684\n",
      "loss: 0.047700732946395874\n",
      "loss: 0.04735199362039566\n",
      "loss: 0.04701553285121918\n",
      "loss: 0.04666654020547867\n",
      "loss: 0.04632677882909775\n",
      "loss: 0.04598133638501167\n",
      "loss: 0.04563777148723602\n",
      "loss: 0.04529613256454468\n",
      "loss: 0.044948760420084\n",
      "Epoch: 70 | MAE Train Loss: 0.044948760420084 | MAE Test Loss: 0.10464880615472794 \n",
      "loss: 0.04461093619465828\n",
      "loss: 0.04426193609833717\n",
      "loss: 0.043923549354076385\n",
      "loss: 0.04357672855257988\n",
      "loss: 0.04323454201221466\n",
      "loss: 0.042891524732112885\n",
      "loss: 0.042545534670352936\n",
      "loss: 0.042206332087516785\n",
      "loss: 0.04185732454061508\n",
      "loss: 0.04152031987905502\n",
      "Epoch: 80 | MAE Train Loss: 0.04152031987905502 | MAE Test Loss: 0.09637625515460968 \n",
      "loss: 0.041172128170728683\n",
      "loss: 0.0408313125371933\n",
      "loss: 0.04048692435026169\n",
      "loss: 0.04014230892062187\n",
      "loss: 0.03980172425508499\n",
      "loss: 0.03945329785346985\n",
      "loss: 0.039116524159908295\n",
      "loss: 0.03876752778887749\n",
      "loss: 0.038428083062171936\n",
      "loss: 0.03808232396841049\n",
      "Epoch: 90 | MAE Train Loss: 0.03808232396841049 | MAE Test Loss: 0.08810374140739441 \n",
      "loss: 0.03773907572031021\n",
      "loss: 0.037397127598524094\n",
      "loss: 0.03705006465315819\n",
      "loss: 0.0367119237780571\n",
      "loss: 0.03636292368173599\n",
      "loss: 0.03602485731244087\n",
      "loss: 0.0356777161359787\n",
      "loss: 0.03533584997057915\n",
      "loss: 0.0349925234913826\n",
      "loss: 0.034646838903427124\n",
      "Epoch: 100 | MAE Train Loss: 0.034646838903427124 | MAE Test Loss: 0.08051808178424835 \n",
      "loss: 0.034307319670915604\n",
      "loss: 0.0339583158493042\n",
      "loss: 0.03362162038683891\n",
      "loss: 0.0332731194794178\n",
      "loss: 0.03293261304497719\n",
      "loss: 0.0325879231095314\n",
      "loss: 0.03224359080195427\n",
      "loss: 0.03190271928906441\n",
      "loss: 0.03155459091067314\n",
      "loss: 0.031217509880661964\n",
      "Epoch: 110 | MAE Train Loss: 0.031217509880661964 | MAE Test Loss: 0.0722455382347107 \n",
      "loss: 0.03086850605905056\n",
      "loss: 0.030529383569955826\n",
      "loss: 0.03018330968916416\n",
      "loss: 0.029840370640158653\n",
      "loss: 0.029498090967535973\n",
      "loss: 0.029151368886232376\n",
      "loss: 0.02881290577352047\n",
      "loss: 0.028463905677199364\n",
      "loss: 0.028126155957579613\n",
      "loss: 0.027778705582022667\n",
      "Epoch: 120 | MAE Train Loss: 0.027778705582022667 | MAE Test Loss: 0.06397300213575363 \n",
      "loss: 0.02743714675307274\n",
      "loss: 0.02709350362420082\n",
      "loss: 0.026748131960630417\n",
      "loss: 0.026408309116959572\n",
      "loss: 0.02605929970741272\n",
      "loss: 0.02572292648255825\n",
      "loss: 0.02537410333752632\n",
      "loss: 0.02503391169011593\n",
      "loss: 0.024688903242349625\n",
      "loss: 0.024344902485609055\n",
      "Epoch: 130 | MAE Train Loss: 0.024344902485609055 | MAE Test Loss: 0.05638733506202698 \n",
      "loss: 0.02400369569659233\n",
      "loss: 0.02365589514374733\n",
      "loss: 0.023318495601415634\n",
      "loss: 0.022969502955675125\n",
      "loss: 0.022630682215094566\n",
      "loss: 0.02228429540991783\n",
      "loss: 0.021941671147942543\n",
      "loss: 0.021599095314741135\n",
      "loss: 0.021252665668725967\n",
      "loss: 0.020913895219564438\n",
      "Epoch: 140 | MAE Train Loss: 0.020913895219564438 | MAE Test Loss: 0.04811479523777962 \n",
      "loss: 0.020564889535307884\n",
      "loss: 0.020227450877428055\n",
      "loss: 0.019879689440131187\n",
      "loss: 0.01953843981027603\n",
      "loss: 0.01919448934495449\n",
      "loss: 0.018849428743124008\n",
      "loss: 0.018509289249777794\n",
      "loss: 0.018160417675971985\n",
      "loss: 0.01782408356666565\n",
      "loss: 0.017475087195634842\n",
      "Epoch: 150 | MAE Train Loss: 0.017475087195634842 | MAE Test Loss: 0.03984225541353226 \n",
      "loss: 0.01713521033525467\n",
      "loss: 0.016789885237812996\n",
      "loss: 0.016446199268102646\n",
      "loss: 0.01610468327999115\n",
      "loss: 0.015757188200950623\n",
      "loss: 0.01541948039084673\n",
      "loss: 0.015070480294525623\n",
      "loss: 0.01473198551684618\n",
      "loss: 0.014385280199348927\n",
      "loss: 0.014042967930436134\n",
      "Epoch: 160 | MAE Train Loss: 0.014042967930436134 | MAE Test Loss: 0.0322565920650959 \n",
      "loss: 0.013700077310204506\n",
      "loss: 0.013353961519896984\n",
      "loss: 0.01301487348973751\n",
      "loss: 0.012665877118706703\n",
      "loss: 0.012328749522566795\n",
      "loss: 0.011980678886175156\n",
      "loss: 0.011639741249382496\n",
      "loss: 0.011295471340417862\n",
      "loss: 0.010950731113553047\n",
      "loss: 0.010610274039208889\n",
      "Epoch: 170 | MAE Train Loss: 0.010610274039208889 | MAE Test Loss: 0.02398405596613884 \n",
      "loss: 0.01026171911507845\n",
      "loss: 0.009925071150064468\n",
      "loss: 0.009576069191098213\n",
      "loss: 0.009236511774361134\n",
      "loss: 0.008890870027244091\n",
      "loss: 0.008547498844563961\n",
      "loss: 0.008205670863389969\n",
      "loss: 0.007858489640057087\n",
      "loss: 0.007520465645939112\n",
      "loss: 0.007171472068876028\n",
      "Epoch: 180 | MAE Train Loss: 0.007171472068876028 | MAE Test Loss: 0.015711510553956032 \n",
      "loss: 0.006833276245743036\n",
      "loss: 0.006486266851425171\n",
      "loss: 0.006144268903881311\n",
      "loss: 0.005801063030958176\n",
      "loss: 0.00545525923371315\n",
      "loss: 0.0051158638671040535\n",
      "loss: 0.0047668637707829475\n",
      "loss: 0.004430046770721674\n",
      "loss: 0.004081658087670803\n",
      "loss: 0.003741039428859949\n",
      "Epoch: 190 | MAE Train Loss: 0.003741039428859949 | MAE Test Loss: 0.008125847205519676 \n",
      "loss: 0.003396458923816681\n",
      "loss: 0.0030520304571837187\n",
      "loss: 0.002711259527131915\n",
      "loss: 0.0023630172945559025\n",
      "loss: 0.0020317495800554752\n",
      "loss: 0.00172170321457088\n",
      "loss: 0.0017794370651245117\n",
      "loss: 0.004964242689311504\n",
      "loss: 0.006556747946888208\n"
     ]
    }
   ],
   "source": [
    "torch.manual_seed(42)\n",
    "\n",
    "# Set the number of epochs (how many times the model will pass over the training data)\n",
    "epochs = 200\n",
    "\n",
    "# Create empty loss lists to track values\n",
    "train_loss_values = []\n",
    "test_loss_values = []\n",
    "epoch_count = []\n",
    "\n",
    "for epoch in range(epochs):\n",
    "    ### Training\n",
    "\n",
    "    # Put model in training mode (this is the default state of a model)\n",
    "    model_0.train()\n",
    "\n",
    "    # 1. Forward pass on train data using the forward() method inside \n",
    "    y_pred = model_0(X_train)\n",
    "    # print(y_pred)\n",
    "\n",
    "    # 2. Calculate the loss (how different are our models predictions to the ground truth)\n",
    "    loss = loss_fn(y_pred, y_train)\n",
    "    print(f\"loss: {loss}\")\n",
    "\n",
    "    # 3. Zero grad of the optimizer\n",
    "    optimizer.zero_grad()\n",
    "\n",
    "    # 4. Loss backwards\n",
    "    loss.backward()\n",
    "\n",
    "    # 5. Progress the optimizer\n",
    "    optimizer.step()\n",
    "\n",
    "    ### Testing\n",
    "\n",
    "    # Put the model in evaluation mode\n",
    "    model_0.eval()\n",
    "\n",
    "    with torch.inference_mode():\n",
    "      # 1. Forward pass on test data\n",
    "      test_pred = model_0(X_test)\n",
    "\n",
    "      # 2. Caculate loss on test data\n",
    "      test_loss = loss_fn(test_pred, y_test.type(torch.float)) # predictions come in torch.float datatype, so comparisons need to be done with tensors of the same type\n",
    "\n",
    "      # Print out what's happening\n",
    "      if epoch % 10 == 0:\n",
    "            epoch_count.append(epoch)\n",
    "            train_loss_values.append(loss.detach().numpy())\n",
    "            test_loss_values.append(test_loss.detach().numpy())\n",
    "            print(f\"Epoch: {epoch} | MAE Train Loss: {loss} | MAE Test Loss: {test_loss} \")"
   ]
  },
  {
   "cell_type": "code",
   "execution_count": 795,
   "metadata": {},
   "outputs": [
    {
     "data": {
      "image/png": "[encoded data removed]",
      "text/plain": [
       "<Figure size 640x480 with 1 Axes>"
      ]
     },
     "metadata": {},
     "output_type": "display_data"
    }
   ],
   "source": [
    "# Plot the loss curves\n",
    "plt.plot(epoch_count, train_loss_values, label = \"Train loss\")\n",
    "plt.plot(epoch_count, test_loss_values, label = \"test loss\")\n",
    "plt.title(\"Training and test Loss curves\")\n",
    "plt.ylabel(\"Loss\")\n",
    "plt.xlabel(\"Epochs\")\n",
    "plt.legend();"
   ]
  },
  {
   "cell_type": "code",
   "execution_count": 796,
   "metadata": {},
   "outputs": [
    {
     "name": "stdout",
     "output_type": "stream",
     "text": [
      "The model learned the following values for weights and bias:\n",
      "OrderedDict({'weights': tensor([0.6962]), 'bias': tensor([0.3064])})\n",
      "\n",
      "And the original values for weights and bias are:\n",
      "weights: 0.7, bias: 0.3\n"
     ]
    }
   ],
   "source": [
    "# Find our model's learned parameters\n",
    "print(\"The model learned the following values for weights and bias:\")\n",
    "print(model_0.state_dict())\n",
    "print(\"\\nAnd the original values for weights and bias are:\")\n",
    "print(f\"weights: {weight}, bias: {bias}\")"
   ]
  },
  {
   "cell_type": "markdown",
   "metadata": {},
   "source": [
    "## 4. Making predictions with a trained PyTorch model (inference)\n",
    "\n",
    "Once you've trained a model, you'll likely want to make predictions with it.\n",
    "\n",
    "There are three things to remember when making predictions (also called performing inference) with a PyTorch model:\n",
    "\n",
    "1. Set the model in evaluation mode (`model.eval()`).\n",
    "\n",
    "2. Make the predictions using the inference mode context manager (`with torch.inference_mode(): ...`).\n",
    "\n",
    "3. All predictions should be made with objects on the same device (e.g. data and model on GPU only or data and model on CPU only)."
   ]
  },
  {
   "cell_type": "code",
   "execution_count": 797,
   "metadata": {},
   "outputs": [
    {
     "data": {
      "text/plain": [
       "tensor([[0.8634],\n",
       "        [0.8773],\n",
       "        [0.8913],\n",
       "        [0.9052],\n",
       "        [0.9191],\n",
       "        [0.9330],\n",
       "        [0.9469],\n",
       "        [0.9609],\n",
       "        [0.9748],\n",
       "        [0.9887]])"
      ]
     },
     "execution_count": 797,
     "metadata": {},
     "output_type": "execute_result"
    }
   ],
   "source": [
    "# 1. Set the model in evaluation mode\n",
    "model_0.eval()\n",
    "\n",
    "# 2. Setup the inference mode context manager\n",
    "with torch.inference_mode():\n",
    "  # 3. Make sure the calculations are done with the model and data on the same device\n",
    "  # in our case, we haven't setup device-agnostic code yet so our data and model are\n",
    "  # on the CPU by default.\n",
    "  # model_0.to(device)\n",
    "  # X_test = X_test.to(device)\n",
    "  y_preds = model_0(X_test)\n",
    "y_preds"
   ]
  },
  {
   "cell_type": "code",
   "execution_count": 798,
   "metadata": {},
   "outputs": [
    {
     "data": {
      "image/png": "[encoded data removed]",
      "text/plain": [
       "<Figure size 1000x700 with 1 Axes>"
      ]
     },
     "metadata": {},
     "output_type": "display_data"
    }
   ],
   "source": [
    "plot_predictions(predictions=y_preds)"
   ]
  },
  {
   "cell_type": "code",
   "execution_count": 799,
   "metadata": {},
   "outputs": [
    {
     "data": {
      "text/plain": [
       "OrderedDict([('weights', tensor([0.6962])), ('bias', tensor([0.3064]))])"
      ]
     },
     "execution_count": 799,
     "metadata": {},
     "output_type": "execute_result"
    }
   ],
   "source": [
    "model_0.state_dict()"
   ]
  },
  {
   "cell_type": "markdown",
   "metadata": {},
   "source": [
    "## 5. **Saving and loading a PyTorch model**\n",
    "\n",
    "If you've trained a PyTorch model, chances are you'll want to save it and export it somewhere.\n",
    "\n",
    "As in, you might train it on Google Colab or your local machine with a GPU but you'd like to now export it to some sort of application where others can use it. \n",
    "\n",
    "Or maybe you'd like to save your progress on a model and come back and load it back later.\n",
    "\n",
    "For saving and loading models in PyTorch, there are three main methods you should be aware of (all of below have been taken from the [PyTorch saving and loading models guide](https://pytorch.org/tutorials/beginner/saving_loading_models.html#saving-loading-model-for-inference)):\n",
    "\n",
    "| PyTorch method | What does it do? | \n",
    "| ----- | ----- |\n",
    "| [`torch.save`](https://pytorch.org/docs/stable/torch.html?highlight=save#torch.save) | Saves a serialized object to disk using Python's [`pickle`](https://docs.python.org/3/library/pickle.html) utility. Models, tensors and various other Python objects like dictionaries can be saved using `torch.save`.  | \n",
    "| [`torch.load`](https://pytorch.org/docs/stable/torch.html?highlight=torch%20load#torch.load) | Uses `pickle`'s unpickling features to deserialize and load pickled Python object files (like models, tensors or dictionaries) into memory. You can also set which device to load the object to (CPU, GPU etc). |\n",
    "| [`torch.nn.Module.load_state_dict`](https://pytorch.org/docs/stable/generated/torch.nn.Module.html?highlight=load_state_dict#torch.nn.Module.load_state_dict)| Loads a model's parameter dictionary (`model.state_dict()`) using a saved `state_dict()` object. | \n",
    "\n",
    "> **Note:** As stated in [Python's `pickle` documentation](https://docs.python.org/3/library/pickle.html), the `pickle` module **is not secure**. That means you should only ever unpickle (load) data you trust. That goes for loading PyTorch models as well. Only ever use saved PyTorch models from sources you trust.\n"
   ]
  },
  {
   "cell_type": "markdown",
   "metadata": {},
   "source": [
    "### Saving a PyTorch model's `state_dict()`\n",
    "\n",
    "The [recommended way](https://pytorch.org/tutorials/beginner/saving_loading_models.html#saving-loading-model-for-inference) for saving and loading a model for inference (making predictions) is by saving and loading a model's `state_dict()`.\n",
    "\n",
    "Let's see how we can do that in a few steps:\n",
    "\n",
    "1. We'll create a directory for saving models to called `models` using Python's `pathlib` module.\n",
    "2. We'll create a file path to save the model to.\n",
    "3. We'll call `torch.save(obj, f)` where `obj` is the target model's `state_dict()` and `f` is the filename of where to save the model.\n",
    "\n",
    "> **Note:** It's common convention for PyTorch saved models or objects to end with `.pt` or `.pth`, like `saved_model_01.pth`.\n"
   ]
  },
  {
   "cell_type": "code",
   "execution_count": 800,
   "metadata": {},
   "outputs": [
    {
     "name": "stdout",
     "output_type": "stream",
     "text": [
      "Saving model to: models\\03_pytorch_workflow_model_3.pth\n"
     ]
    }
   ],
   "source": [
    "from pathlib import Path\n",
    "\n",
    "# 1. Create models directory \n",
    "MODEL_PATH = Path(\"models\")\n",
    "MODEL_PATH.mkdir(parents=True, exist_ok=True)\n",
    "\n",
    "# 2. Create model save path \n",
    "MODEL_NAME = \"03_pytorch_workflow_model_3.pth\"\n",
    "MODEL_SAVE_PATH = MODEL_PATH / MODEL_NAME\n",
    "\n",
    "# 3. Save the model state dict \n",
    "print(f\"Saving model to: {MODEL_SAVE_PATH}\")\n",
    "torch.save(obj=model_0.state_dict(), # only saving the state_dict() only saves the models learned parameters\n",
    "           f=MODEL_SAVE_PATH) "
   ]
  },
  {
   "cell_type": "markdown",
   "metadata": {},
   "source": [
    "it's train time!\n",
    "\n",
    "do the forward pass,\n",
    "\n",
    "calculate the loss,\n",
    "\n",
    "optimizer zero grad,\n",
    "\n",
    "loss backwaeds!\n",
    "\n",
    "\n",
    "* Optimizer step step step\n",
    "\n",
    "\n",
    "let's test now!\n",
    "\n",
    "with torch no grad:\n",
    "\n",
    "do the forward pass,\n",
    "\n",
    "calaculate the loss,\n",
    "\n",
    "watch it go down down!"
   ]
  },
  {
   "cell_type": "markdown",
   "metadata": {},
   "source": [
    "**Since we saved our model's `state_dict()` rather the emtier model, we'll create a new instance of uor model class and state_dict() into that**"
   ]
  },
  {
   "cell_type": "code",
   "execution_count": 801,
   "metadata": {},
   "outputs": [
    {
     "data": {
      "text/plain": [
       "<All keys matched successfully>"
      ]
     },
     "execution_count": 801,
     "metadata": {},
     "output_type": "execute_result"
    }
   ],
   "source": [
    "# To load in a saved state_dict we have to instantiate a new instance of our model class\n",
    "loaded_model_0 = LinearRegressionModel()    \n",
    "\n",
    "# load the saved state_dict of model_0 (this will update the new instance with updated parameters)\n",
    "loaded_model_0.load_state_dict(torch.load(f=MODEL_SAVE_PATH))"
   ]
  },
  {
   "cell_type": "code",
   "execution_count": 802,
   "metadata": {},
   "outputs": [
    {
     "data": {
      "text/plain": [
       "OrderedDict([('weights', tensor([0.6962])), ('bias', tensor([0.3064]))])"
      ]
     },
     "execution_count": 802,
     "metadata": {},
     "output_type": "execute_result"
    }
   ],
   "source": [
    "loaded_model_0.state_dict()"
   ]
  },
  {
   "cell_type": "code",
   "execution_count": 803,
   "metadata": {},
   "outputs": [
    {
     "data": {
      "text/plain": [
       "tensor([[0.8634],\n",
       "        [0.8773],\n",
       "        [0.8913],\n",
       "        [0.9052],\n",
       "        [0.9191],\n",
       "        [0.9330],\n",
       "        [0.9469],\n",
       "        [0.9609],\n",
       "        [0.9748],\n",
       "        [0.9887]])"
      ]
     },
     "execution_count": 803,
     "metadata": {},
     "output_type": "execute_result"
    }
   ],
   "source": [
    "# MAke sure predictions with our loaded model\n",
    "\n",
    "loaded_model_0.eval()\n",
    "with torch.inference_mode():\n",
    "    loaded_model_preds = loaded_model_0(X_test)\n",
    "\n",
    "loaded_model_preds"
   ]
  },
  {
   "cell_type": "code",
   "execution_count": 804,
   "metadata": {},
   "outputs": [
    {
     "data": {
      "text/plain": [
       "tensor([[True],\n",
       "        [True],\n",
       "        [True],\n",
       "        [True],\n",
       "        [True],\n",
       "        [True],\n",
       "        [True],\n",
       "        [True],\n",
       "        [True],\n",
       "        [True]])"
      ]
     },
     "execution_count": 804,
     "metadata": {},
     "output_type": "execute_result"
    }
   ],
   "source": [
    "y_preds == loaded_model_preds"
   ]
  },
  {
   "cell_type": "code",
   "execution_count": 805,
   "metadata": {},
   "outputs": [
    {
     "data": {
      "text/plain": [
       "tensor([[0.8634],\n",
       "        [0.8773],\n",
       "        [0.8913],\n",
       "        [0.9052],\n",
       "        [0.9191],\n",
       "        [0.9330],\n",
       "        [0.9469],\n",
       "        [0.9609],\n",
       "        [0.9748],\n",
       "        [0.9887]])"
      ]
     },
     "execution_count": 805,
     "metadata": {},
     "output_type": "execute_result"
    }
   ],
   "source": [
    "#make some model preds\n",
    "model_0.eval()\n",
    "with torch.inference_mode():\n",
    "    y_preds =model_0(X_test)\n",
    "\n",
    "y_preds"
   ]
  },
  {
   "cell_type": "markdown",
   "metadata": {},
   "source": [
    "## 6. Putting it all together \n",
    " \n",
    " let's go back throug the steps above and see it all in one place.\n",
    " "
   ]
  },
  {
   "cell_type": "markdown",
   "metadata": {},
   "source": [
    "* **Create device-agnostic code.**\n",
    "\n",
    "this means if we've got access to a `GPU`, our code will use it (for potentially faster computing).\n",
    "\n",
    "If no `GPU` is available, the code will defaoult to using `CPU`"
   ]
  },
  {
   "cell_type": "code",
   "execution_count": 806,
   "metadata": {},
   "outputs": [
    {
     "name": "stdout",
     "output_type": "stream",
     "text": [
      "Using device: cuda\n"
     ]
    }
   ],
   "source": [
    "# setup device agnostic code\n",
    "device = \"cuda\" if torch.cuda.is_available() else \"cpu\"\n",
    "print(f\"Using device: {device}\")"
   ]
  },
  {
   "cell_type": "markdown",
   "metadata": {},
   "source": [
    "#### 6.1 Data"
   ]
  },
  {
   "cell_type": "code",
   "execution_count": 807,
   "metadata": {},
   "outputs": [],
   "source": [
    "# Create some data using the linear regression formula of u = weight * x + bias\n",
    "weight = 0.7\n",
    "bias = 0.3\n",
    "\n",
    "#create range values\n",
    "start = 0\n",
    "end = 1\n",
    "step = 0.02\n",
    "\n",
    "# Create X and y (features and lables)\n",
    "x = torch.arange(start, end, step).unsqueeze(dim =1)#Without unsqueeze, it throws an error\n",
    "y = weight * x + bias"
   ]
  },
  {
   "cell_type": "code",
   "execution_count": 808,
   "metadata": {},
   "outputs": [
    {
     "data": {
      "text/plain": [
       "(tensor([[0.0000],\n",
       "         [0.0200],\n",
       "         [0.0400],\n",
       "         [0.0600],\n",
       "         [0.0800],\n",
       "         [0.1000],\n",
       "         [0.1200],\n",
       "         [0.1400],\n",
       "         [0.1600],\n",
       "         [0.1800],\n",
       "         [0.2000],\n",
       "         [0.2200],\n",
       "         [0.2400],\n",
       "         [0.2600],\n",
       "         [0.2800],\n",
       "         [0.3000],\n",
       "         [0.3200],\n",
       "         [0.3400],\n",
       "         [0.3600],\n",
       "         [0.3800],\n",
       "         [0.4000],\n",
       "         [0.4200],\n",
       "         [0.4400],\n",
       "         [0.4600],\n",
       "         [0.4800],\n",
       "         [0.5000],\n",
       "         [0.5200],\n",
       "         [0.5400],\n",
       "         [0.5600],\n",
       "         [0.5800],\n",
       "         [0.6000],\n",
       "         [0.6200],\n",
       "         [0.6400],\n",
       "         [0.6600],\n",
       "         [0.6800],\n",
       "         [0.7000],\n",
       "         [0.7200],\n",
       "         [0.7400],\n",
       "         [0.7600],\n",
       "         [0.7800],\n",
       "         [0.8000],\n",
       "         [0.8200],\n",
       "         [0.8400],\n",
       "         [0.8600],\n",
       "         [0.8800],\n",
       "         [0.9000],\n",
       "         [0.9200],\n",
       "         [0.9400],\n",
       "         [0.9600],\n",
       "         [0.9800]]),\n",
       " tensor([[0.3000],\n",
       "         [0.3140],\n",
       "         [0.3280],\n",
       "         [0.3420],\n",
       "         [0.3560],\n",
       "         [0.3700],\n",
       "         [0.3840],\n",
       "         [0.3980],\n",
       "         [0.4120],\n",
       "         [0.4260],\n",
       "         [0.4400],\n",
       "         [0.4540],\n",
       "         [0.4680],\n",
       "         [0.4820],\n",
       "         [0.4960],\n",
       "         [0.5100],\n",
       "         [0.5240],\n",
       "         [0.5380],\n",
       "         [0.5520],\n",
       "         [0.5660],\n",
       "         [0.5800],\n",
       "         [0.5940],\n",
       "         [0.6080],\n",
       "         [0.6220],\n",
       "         [0.6360],\n",
       "         [0.6500],\n",
       "         [0.6640],\n",
       "         [0.6780],\n",
       "         [0.6920],\n",
       "         [0.7060],\n",
       "         [0.7200],\n",
       "         [0.7340],\n",
       "         [0.7480],\n",
       "         [0.7620],\n",
       "         [0.7760],\n",
       "         [0.7900],\n",
       "         [0.8040],\n",
       "         [0.8180],\n",
       "         [0.8320],\n",
       "         [0.8460],\n",
       "         [0.8600],\n",
       "         [0.8740],\n",
       "         [0.8880],\n",
       "         [0.9020],\n",
       "         [0.9160],\n",
       "         [0.9300],\n",
       "         [0.9440],\n",
       "         [0.9580],\n",
       "         [0.9720],\n",
       "         [0.9860]]))"
      ]
     },
     "execution_count": 808,
     "metadata": {},
     "output_type": "execute_result"
    }
   ],
   "source": [
    "x, y"
   ]
  },
  {
   "cell_type": "code",
   "execution_count": 809,
   "metadata": {},
   "outputs": [
    {
     "data": {
      "text/plain": [
       "(40, 40, 10, 10)"
      ]
     },
     "execution_count": 809,
     "metadata": {},
     "output_type": "execute_result"
    }
   ],
   "source": [
    "#split data\n",
    "train_split = int(0.8*len(x))\n",
    "x_train, y_train = x[:train_split], y[:train_split]\n",
    "x_test, y_test= x[train_split:], y[train_split:]\n",
    "len(x_train), len(y_train), len(x_test), len(y_test)"
   ]
  },
  {
   "cell_type": "code",
   "execution_count": 810,
   "metadata": {},
   "outputs": [],
   "source": [
    "def plot_predictions(train_data = x_train,\n",
    "                     train_label = y_train,\n",
    "                     test_data = x_test,\n",
    "                     test_label = y_test,\n",
    "                     predictions = None):\n",
    "    plt.figure(figsize = (10, 7))\n",
    "\n",
    "    #plot traing data in blue\n",
    "    plt.scatter(train_data, train_label, c = \"b\", s = 4, label = \"Training data\")  \n",
    "\n",
    "    #plot test data in red\n",
    "    plt.scatter(test_data, test_label, c = \"r\", s = 4, label = \"Testing data\")\n",
    "\n",
    "    #are there predictions\n",
    "    if predictions is not None:\n",
    "        #plot the predictions if they exist\n",
    "        predictions_np = predictions.detach().cpu().numpy()\n",
    "        plt.scatter(test_data.cpu().numpy(), predictions_np, c = \"g\", s = 4, label = \"Predictions\")\n",
    "    \n",
    "    #show the legends\n",
    "    plt.legend(prop={\"size\": 14});\n",
    "\n",
    "# def plot_predictions(train_data=x_train,\n",
    "#                      train_label=y_train,\n",
    "#                      test_data=x_test,\n",
    "#                      test_label=y_test,\n",
    "#                      predictions=None):\n",
    "#     # Convert tensors to NumPy arrays\n",
    "#     train_data_np = train_data.detach().cpu().numpy()\n",
    "#     train_label_np = train_label.detach().cpu().numpy()\n",
    "#     test_data_np = test_data.detach().cpu().numpy()\n",
    "#     test_label_np = test_label.detach().cpu().numpy()\n",
    "    \n",
    "#     if predictions is not None:\n",
    "#         predictions_np = predictions.detach().cpu().numpy()\n",
    "    \n",
    "#     # Check the sizes\n",
    "#     if train_data_np.shape[0] != train_label_np.shape[0]:\n",
    "#         raise ValueError(\"train_data and train_label must have the same number of elements.\")\n",
    "#     if test_data_np.shape[0] != test_label_np.shape[0]:\n",
    "#         raise ValueError(\"test_data and test_label must have the same number of elements.\")\n",
    "#     if predictions is not None and test_data_np.shape[0] != predictions_np.shape[0]:\n",
    "#         raise ValueError(\"test_data and predictions must have the same number of elements.\")\n",
    "    \n",
    "#     plt.figure(figsize=(10, 7))\n",
    "\n",
    "#     # Plot training data in blue\n",
    "#     plt.scatter(train_data_np, train_label_np, c=\"b\", s=4, label=\"Training data\")\n",
    "\n",
    "#     # Plot test data in red\n",
    "#     plt.scatter(test_data_np, test_label_np, c=\"r\", s=4, label=\"Testing data\")\n",
    "\n",
    "#     # Plot predictions if they exist\n",
    "#     if predictions is not None:\n",
    "#         plt.scatter(test_data_np, predictions_np, c=\"g\", s=4, label=\"Predictions\")\n",
    "    \n",
    "#     # Show the legends\n",
    "#     plt.legend(prop={\"size\": 14})\n",
    "#     plt.show()\n",
    "\n",
    "\n",
    "\n",
    "\n",
    " \n",
    "\n",
    "    "
   ]
  },
  {
   "cell_type": "code",
   "execution_count": 811,
   "metadata": {},
   "outputs": [
    {
     "data": {
      "image/png": "[encoded data removed]",
      "text/plain": [
       "<Figure size 1000x700 with 1 Axes>"
      ]
     },
     "metadata": {},
     "output_type": "display_data"
    }
   ],
   "source": [
    "# Note : if you don't have the plot_predictoins() function loaded, this will error\n",
    "plot_predictions(x_train, y_train, y_test, x_test)\n"
   ]
  },
  {
   "cell_type": "markdown",
   "metadata": {},
   "source": [
    "### 6.2 Building a pytorch Linear model"
   ]
  },
  {
   "cell_type": "code",
   "execution_count": 812,
   "metadata": {},
   "outputs": [
    {
     "data": {
      "text/plain": [
       "(LinearRegressionModelv2(\n",
       "   (linear_layer): Linear(in_features=1, out_features=1, bias=True)\n",
       " ),\n",
       " OrderedDict([('linear_layer.weight', tensor([[0.7645]])),\n",
       "              ('linear_layer.bias', tensor([0.8300]))]))"
      ]
     },
     "execution_count": 812,
     "metadata": {},
     "output_type": "execute_result"
    }
   ],
   "source": [
    "#create a linear layer model by subclassing nn.Module\n",
    "class LinearRegressionModelv2(nn.Module):\n",
    "    def __init__(self):\n",
    "        super().__init__()\n",
    "        # USe nn.linear() for creating the model parameters\n",
    "        self.linear_layer = nn.Linear(in_features = 1, \n",
    "                                      out_features = 1)\n",
    "\n",
    "    def forward(self, x: torch.Tensor) -> torch.Tensor:\n",
    "        return self.linear_layer(x)\n",
    "    \n",
    "# set the manual seed \n",
    "torch.manual_seed(42)\n",
    "model_1 = LinearRegressionModelv2()\n",
    "model_1, model_1.state_dict()"
   ]
  },
  {
   "cell_type": "code",
   "execution_count": 813,
   "metadata": {},
   "outputs": [
    {
     "data": {
      "text/plain": [
       "(tensor([[0.0000],\n",
       "         [0.0200],\n",
       "         [0.0400],\n",
       "         [0.0600],\n",
       "         [0.0800]]),\n",
       " tensor([[0.3000],\n",
       "         [0.3140],\n",
       "         [0.3280],\n",
       "         [0.3420],\n",
       "         [0.3560]]))"
      ]
     },
     "execution_count": 813,
     "metadata": {},
     "output_type": "execute_result"
    }
   ],
   "source": [
    "x_train[:5], y_train[:5]"
   ]
  },
  {
   "cell_type": "code",
   "execution_count": 814,
   "metadata": {},
   "outputs": [
    {
     "data": {
      "text/plain": [
       "OrderedDict([('linear_layer.weight', tensor([[0.7645]])),\n",
       "             ('linear_layer.bias', tensor([0.8300]))])"
      ]
     },
     "execution_count": 814,
     "metadata": {},
     "output_type": "execute_result"
    }
   ],
   "source": [
    "model_1.state_dict()\n"
   ]
  },
  {
   "cell_type": "code",
   "execution_count": 815,
   "metadata": {},
   "outputs": [
    {
     "data": {
      "text/plain": [
       "device(type='cpu')"
      ]
     },
     "execution_count": 815,
     "metadata": {},
     "output_type": "execute_result"
    }
   ],
   "source": [
    "next(model_1.parameters()).device"
   ]
  },
  {
   "cell_type": "code",
   "execution_count": 816,
   "metadata": {},
   "outputs": [
    {
     "data": {
      "text/plain": [
       "device(type='cuda', index=0)"
      ]
     },
     "execution_count": 816,
     "metadata": {},
     "output_type": "execute_result"
    }
   ],
   "source": [
    "#set the model to use the target device\n",
    "model_1.to(device)\n",
    "next(model_1.parameters()).device\n"
   ]
  },
  {
   "cell_type": "markdown",
   "metadata": {},
   "source": [
    "### 6.3 Training\n",
    "\n",
    "For training we need:\n",
    "\n",
    "* loss function\n",
    "* optimizer\n",
    "* Training loop\n",
    "* Testing loop\n"
   ]
  },
  {
   "cell_type": "code",
   "execution_count": 817,
   "metadata": {},
   "outputs": [],
   "source": [
    "# setup Loss fuctiom\n",
    "loss_fn == nn.L1Loss()\n",
    "\n",
    "# setup an optimizer\n",
    "optimizer = torch.optim.SGD(lr=0.01, params= model_1.parameters())"
   ]
  },
  {
   "cell_type": "code",
   "execution_count": 818,
   "metadata": {},
   "outputs": [
    {
     "name": "stdout",
     "output_type": "stream",
     "text": [
      "Epoch: 0 | Loss: 0.5551779866218567 | Test loss: 0.5739762187004089\n",
      "Epoch: 10 | Loss: 0.439968079328537 | Test loss: 0.4392664134502411\n",
      "Epoch: 20 | Loss: 0.3247582018375397 | Test loss: 0.30455657839775085\n",
      "Epoch: 30 | Loss: 0.20954833924770355 | Test loss: 0.16984669864177704\n",
      "Epoch: 40 | Loss: 0.09433845430612564 | Test loss: 0.03513690456748009\n",
      "Epoch: 50 | Loss: 0.023886388167738914 | Test loss: 0.04784907028079033\n",
      "Epoch: 60 | Loss: 0.019956795498728752 | Test loss: 0.045803118497133255\n",
      "Epoch: 70 | Loss: 0.016517987474799156 | Test loss: 0.037530567497015\n",
      "Epoch: 80 | Loss: 0.013089174404740334 | Test loss: 0.02994490973651409\n",
      "Epoch: 90 | Loss: 0.009653178043663502 | Test loss: 0.02167237363755703\n",
      "Epoch: 100 | Loss: 0.006215683650225401 | Test loss: 0.014086711220443249\n",
      "Epoch: 110 | Loss: 0.00278724217787385 | Test loss: 0.005814164876937866\n",
      "Epoch: 120 | Loss: 0.0012645035749301314 | Test loss: 0.013801801018416882\n",
      "Epoch: 130 | Loss: 0.0012645035749301314 | Test loss: 0.013801801018416882\n",
      "Epoch: 140 | Loss: 0.0012645035749301314 | Test loss: 0.013801801018416882\n",
      "Epoch: 150 | Loss: 0.0012645035749301314 | Test loss: 0.013801801018416882\n",
      "Epoch: 160 | Loss: 0.0012645035749301314 | Test loss: 0.013801801018416882\n",
      "Epoch: 170 | Loss: 0.0012645035749301314 | Test loss: 0.013801801018416882\n",
      "Epoch: 180 | Loss: 0.0012645035749301314 | Test loss: 0.013801801018416882\n",
      "Epoch: 190 | Loss: 0.0012645035749301314 | Test loss: 0.013801801018416882\n"
     ]
    }
   ],
   "source": [
    "# lets write the traing loop\n",
    "torch.manual_seed(42)\n",
    "\n",
    "epochs = 200\n",
    "\n",
    "# put Data on the target device(device agnostic code)\n",
    "x_train = x_train.to(device)\n",
    "y_train = y_train.to(device)\n",
    "x_test  = x_test.to(device)\n",
    "y_test = y_test.to(device)\n",
    "# Train\n",
    "\n",
    "for epoch in range(epochs):\n",
    "    model_1.train()\n",
    "\n",
    "    # 1. Forward pass\n",
    "    y_pred = model_1(x_train)\n",
    "\n",
    "    # 2. Calculate the loss\n",
    "    loss = loss_fn(y_pred, y_train)\n",
    "\n",
    "    # 3. Optimizer zero grad\n",
    "    optimizer.zero_grad()\n",
    "\n",
    "    # 4. Perform Backpropagation\n",
    "    loss.backward()\n",
    "    \n",
    "    #optimizer step\n",
    "    optimizer.step()\n",
    "\n",
    "    ### testing\n",
    "    model_1.eval()\n",
    "    with torch.inference_mode():\n",
    "        test_pred = model_1(x_test)\n",
    "\n",
    "        test_loss = loss_fn(test_pred, y_test)\n",
    "\n",
    "    if epoch % 10 == 0:\n",
    "        print(f\"Epoch: {epoch} | Loss: {loss} | Test loss: {test_loss}\")\n",
    "\n",
    "        "
   ]
  },
  {
   "cell_type": "code",
   "execution_count": 819,
   "metadata": {},
   "outputs": [
    {
     "data": {
      "text/plain": [
       "OrderedDict([('linear_layer.weight', tensor([[0.6968]], device='cuda:0')),\n",
       "             ('linear_layer.bias', tensor([0.3025], device='cuda:0'))])"
      ]
     },
     "execution_count": 819,
     "metadata": {},
     "output_type": "execute_result"
    }
   ],
   "source": [
    "model_1.state_dict()"
   ]
  },
  {
   "cell_type": "code",
   "execution_count": 820,
   "metadata": {},
   "outputs": [
    {
     "data": {
      "text/plain": [
       "(0.7, 0.3)"
      ]
     },
     "execution_count": 820,
     "metadata": {},
     "output_type": "execute_result"
    }
   ],
   "source": [
    "weight, bias"
   ]
  },
  {
   "cell_type": "markdown",
   "metadata": {},
   "source": [
    "### 6.4 Making and evaluating predictions\n"
   ]
  },
  {
   "cell_type": "code",
   "execution_count": 821,
   "metadata": {},
   "outputs": [
    {
     "data": {
      "text/plain": [
       "tensor([[0.8600],\n",
       "        [0.8739],\n",
       "        [0.8878],\n",
       "        [0.9018],\n",
       "        [0.9157],\n",
       "        [0.9296],\n",
       "        [0.9436],\n",
       "        [0.9575],\n",
       "        [0.9714],\n",
       "        [0.9854]], device='cuda:0')"
      ]
     },
     "execution_count": 821,
     "metadata": {},
     "output_type": "execute_result"
    }
   ],
   "source": [
    "# Turn model into evaluation mode\n",
    "model_1.eval()\n",
    "\n",
    "# Make predictions on the test data\n",
    "with torch.inference_mode():\n",
    "    y_preds = model_1(x_test)\n",
    "y_preds"
   ]
  },
  {
   "cell_type": "code",
   "execution_count": 822,
   "metadata": {},
   "outputs": [
    {
     "data": {
      "image/png": "[encoded data removed]",
      "text/plain": [
       "<Figure size 1000x700 with 1 Axes>"
      ]
     },
     "metadata": {},
     "output_type": "display_data"
    }
   ],
   "source": [
    "# Check out our model predicctions\n",
    "plot_predictions(predictions = y_preds)"
   ]
  },
  {
   "cell_type": "markdown",
   "metadata": {},
   "source": [
    "### 6.5 Saving & loading a trained model"
   ]
  },
  {
   "cell_type": "code",
   "execution_count": 824,
   "metadata": {},
   "outputs": [
    {
     "name": "stdout",
     "output_type": "stream",
     "text": [
      "Saving model to: models\\03_pytorch_workflow_model_1.pth\n"
     ]
    }
   ],
   "source": [
    "from pathlib import Path\n",
    "\n",
    "# 1. Create models directory    \n",
    "MODEL_PATH = Path(\"models\")\n",
    "MODEL_PATH.mkdir(parents=True, exist_ok=True)\n",
    "\n",
    "# 2. Create model save path\n",
    "MODEL_NAME = '03_pytorch_workflow_model_1.pth'\n",
    "MODEL_SAVE_PATH = MODEL_PATH / MODEL_NAME\n",
    "\n",
    "MODEL_SAVE_PATH\n",
    "\n",
    "# 3. Save the model state dict\n",
    "print(f\"Saving model to: {MODEL_SAVE_PATH}\")\n",
    "torch.save(model_1.state_dict(), f = MODEL_SAVE_PATH)\n"
   ]
  },
  {
   "cell_type": "code",
   "execution_count": 825,
   "metadata": {},
   "outputs": [
    {
     "data": {
      "text/plain": [
       "OrderedDict([('linear_layer.weight', tensor([[0.6968]], device='cuda:0')),\n",
       "             ('linear_layer.bias', tensor([0.3025], device='cuda:0'))])"
      ]
     },
     "execution_count": 825,
     "metadata": {},
     "output_type": "execute_result"
    }
   ],
   "source": [
    "model_1.state_dict()"
   ]
  },
  {
   "cell_type": "code",
   "execution_count": 829,
   "metadata": {},
   "outputs": [
    {
     "data": {
      "text/plain": [
       "LinearRegressionModelv2(\n",
       "  (linear_layer): Linear(in_features=1, out_features=1, bias=True)\n",
       ")"
      ]
     },
     "execution_count": 829,
     "metadata": {},
     "output_type": "execute_result"
    }
   ],
   "source": [
    "# load a pytorch model\n",
    "\n",
    "# create a new instance o flinear regression model\n",
    "\n",
    "loaded_model_1 = LinearRegressionModelv2()\n",
    "\n",
    "# load the saved model_1 state_dict\n",
    "loaded_model_1.load_state_dict(torch.load(MODEL_SAVE_PATH))\n",
    "\n",
    "# Put the loaded model to device\n",
    "loaded_model_1.to(device) \n"
   ]
  },
  {
   "cell_type": "code",
   "execution_count": 833,
   "metadata": {},
   "outputs": [
    {
     "data": {
      "text/plain": [
       "device(type='cuda', index=0)"
      ]
     },
     "execution_count": 833,
     "metadata": {},
     "output_type": "execute_result"
    }
   ],
   "source": [
    "next(loaded_model_1.parameters()).device"
   ]
  },
  {
   "cell_type": "code",
   "execution_count": 834,
   "metadata": {},
   "outputs": [
    {
     "data": {
      "text/plain": [
       "OrderedDict([('linear_layer.weight', tensor([[0.6968]], device='cuda:0')),\n",
       "             ('linear_layer.bias', tensor([0.3025], device='cuda:0'))])"
      ]
     },
     "execution_count": 834,
     "metadata": {},
     "output_type": "execute_result"
    }
   ],
   "source": [
    "loaded_model_1.state_dict()"
   ]
  },
  {
   "cell_type": "code",
   "execution_count": 836,
   "metadata": {},
   "outputs": [
    {
     "data": {
      "text/plain": [
       "tensor([[True],\n",
       "        [True],\n",
       "        [True],\n",
       "        [True],\n",
       "        [True],\n",
       "        [True],\n",
       "        [True],\n",
       "        [True],\n",
       "        [True],\n",
       "        [True]], device='cuda:0')"
      ]
     },
     "execution_count": 836,
     "metadata": {},
     "output_type": "execute_result"
    }
   ],
   "source": [
    "# Evalute loaded model\n",
    "loaded_model_1.eval()\n",
    "with torch.inference_mode():\n",
    "    loaded_model_1_preds = loaded_model_1(x_test)\n",
    "y_preds == loaded_model_1_preds"
   ]
  },
  {
   "cell_type": "code",
   "execution_count": null,
   "metadata": {},
   "outputs": [],
   "source": []
  }
 ],
 "metadata": {
  "kernelspec": {
   "display_name": "Python 3",
   "language": "python",
   "name": "python3"
  },
  "language_info": {
   "codemirror_mode": {
    "name": "ipython",
    "version": 3
   },
   "file_extension": ".py",
   "mimetype": "text/x-python",
   "name": "python",
   "nbconvert_exporter": "python",
   "pygments_lexer": "ipython3",
   "version": "3.12.3"
  }
 },
 "nbformat": 4,
 "nbformat_minor": 2
}
