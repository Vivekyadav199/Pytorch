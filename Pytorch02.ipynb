{
 "cells": [
  {
   "cell_type": "markdown",
   "metadata": {},
   "source": [
    "# Random Tensor\n",
    "\n",
    "Why random tensors?\n",
    "\n",
    "Random tensors are important becouse the way many neural networks learn is that they start with tensors full of random numbers and the adjust those Random numbers to better represent the data."
   ]
  },
  {
   "cell_type": "markdown",
   "metadata": {},
   "source": [
    " start with random numbers -> look at the data -> update the random numbers ->Look at the data -> update random numbers\n",
    "Torch random Tesnors- https://pytorch.org/docs/stable/generated/torch.rand.html"
   ]
  },
  {
   "cell_type": "code",
   "execution_count": 1,
   "metadata": {},
   "outputs": [],
   "source": [
    "import torch    \n",
    "import numpy as np\n",
    "import matplotlib.pyplot as plt\n",
    "import pandas as pd \n"
   ]
  },
  {
   "cell_type": "code",
   "execution_count": 2,
   "metadata": {},
   "outputs": [
    {
     "data": {
      "text/plain": [
       "tensor([[0.7367, 0.1980, 0.2333, 0.8510],\n",
       "        [0.3947, 0.0145, 0.3771, 0.5556],\n",
       "        [0.1779, 0.1936, 0.1691, 0.6746]])"
      ]
     },
     "execution_count": 2,
     "metadata": {},
     "output_type": "execute_result"
    }
   ],
   "source": [
    "random_tensor = torch.rand(3,4)\n",
    "random_tensor"
   ]
  },
  {
   "cell_type": "code",
   "execution_count": 3,
   "metadata": {},
   "outputs": [
    {
     "data": {
      "text/plain": [
       "(torch.Size([3, 224, 224]), 3)"
      ]
     },
     "execution_count": 3,
     "metadata": {},
     "output_type": "execute_result"
    }
   ],
   "source": [
    "random_image_size_tensor = torch.rand(3, 224, 224)#height , width , colour chnals(R<G<B))\n",
    "random_image_size_tensor.shape, random_image_size_tensor.ndim"
   ]
  },
  {
   "cell_type": "code",
   "execution_count": 4,
   "metadata": {},
   "outputs": [
    {
     "name": "stdout",
     "output_type": "stream",
     "text": [
      "2.3.0+cu121\n"
     ]
    }
   ],
   "source": [
    "print(torch. __version__)"
   ]
  },
  {
   "cell_type": "code",
   "execution_count": 5,
   "metadata": {},
   "outputs": [
    {
     "data": {
      "text/plain": [
       "True"
      ]
     },
     "execution_count": 5,
     "metadata": {},
     "output_type": "execute_result"
    }
   ],
   "source": [
    "torch.cuda.is_available()"
   ]
  },
  {
   "cell_type": "code",
   "execution_count": 6,
   "metadata": {},
   "outputs": [
    {
     "data": {
      "text/plain": [
       "tensor([1., 2., 3.], device='cuda:0')"
      ]
     },
     "execution_count": 6,
     "metadata": {},
     "output_type": "execute_result"
    }
   ],
   "source": [
    "var1 = torch.FloatTensor([1.0,2.0,3.0]).cuda()\n",
    "var1"
   ]
  },
  {
   "cell_type": "code",
   "execution_count": 7,
   "metadata": {},
   "outputs": [
    {
     "data": {
      "text/plain": [
       "device(type='cuda', index=0)"
      ]
     },
     "execution_count": 7,
     "metadata": {},
     "output_type": "execute_result"
    }
   ],
   "source": [
    "var1.device"
   ]
  },
  {
   "cell_type": "markdown",
   "metadata": {},
   "source": [
    "### Zeros and Ones"
   ]
  },
  {
   "cell_type": "code",
   "execution_count": 8,
   "metadata": {},
   "outputs": [
    {
     "data": {
      "text/plain": [
       "tensor([[0., 0., 0., 0.],\n",
       "        [0., 0., 0., 0.],\n",
       "        [0., 0., 0., 0.]])"
      ]
     },
     "execution_count": 8,
     "metadata": {},
     "output_type": "execute_result"
    }
   ],
   "source": [
    "#create a tensor of zeros\n",
    "zero = torch.zeros(size = (3,4))\n",
    "zero"
   ]
  },
  {
   "cell_type": "code",
   "execution_count": 9,
   "metadata": {},
   "outputs": [
    {
     "data": {
      "text/plain": [
       "tensor([[0., 0., 0., 0.],\n",
       "        [0., 0., 0., 0.],\n",
       "        [0., 0., 0., 0.]])"
      ]
     },
     "execution_count": 9,
     "metadata": {},
     "output_type": "execute_result"
    }
   ],
   "source": [
    "zero*random_tensor"
   ]
  },
  {
   "cell_type": "code",
   "execution_count": 10,
   "metadata": {},
   "outputs": [
    {
     "data": {
      "text/plain": [
       "tensor([[1., 1., 1., 1.],\n",
       "        [1., 1., 1., 1.],\n",
       "        [1., 1., 1., 1.]])"
      ]
     },
     "execution_count": 10,
     "metadata": {},
     "output_type": "execute_result"
    }
   ],
   "source": [
    "# Create a tensor of Ones\n",
    "ones = torch.ones(size = (3,4))\n",
    "ones"
   ]
  },
  {
   "cell_type": "code",
   "execution_count": 11,
   "metadata": {},
   "outputs": [
    {
     "data": {
      "text/plain": [
       "torch.float32"
      ]
     },
     "execution_count": 11,
     "metadata": {},
     "output_type": "execute_result"
    }
   ],
   "source": [
    "ones.dtype"
   ]
  },
  {
   "cell_type": "markdown",
   "metadata": {},
   "source": [
    "### Creating a range of tensors and Tensors-Like"
   ]
  },
  {
   "cell_type": "code",
   "execution_count": 12,
   "metadata": {},
   "outputs": [
    {
     "data": {
      "text/plain": [
       "tensor([ 1,  2,  3,  4,  5,  6,  7,  8,  9, 10])"
      ]
     },
     "execution_count": 12,
     "metadata": {},
     "output_type": "execute_result"
    }
   ],
   "source": [
    "# use torch.range\n",
    "one_to_ten = torch.arange(1,11) \n",
    "one_to_ten"
   ]
  },
  {
   "cell_type": "code",
   "execution_count": 13,
   "metadata": {},
   "outputs": [
    {
     "data": {
      "text/plain": [
       "tensor([ 1,  6, 11, 16, 21, 26, 31, 36, 41, 46, 51, 56, 61, 66, 71, 76, 81, 86,\n",
       "        91, 96])"
      ]
     },
     "execution_count": 13,
     "metadata": {},
     "output_type": "execute_result"
    }
   ],
   "source": [
    "#using steps methods\n",
    "one_to_hunderd = torch.arange(start = 1, end = 100, step = 5)\n",
    "one_to_hunderd"
   ]
  },
  {
   "cell_type": "code",
   "execution_count": 14,
   "metadata": {},
   "outputs": [
    {
     "data": {
      "text/plain": [
       "tensor([0, 0, 0, 0, 0, 0, 0, 0, 0, 0])"
      ]
     },
     "execution_count": 14,
     "metadata": {},
     "output_type": "execute_result"
    }
   ],
   "source": [
    "#Creating tesnor Like\n",
    "Ten_zeros = torch.zeros_like(one_to_ten) # same shape as one_to_ten\n",
    "Ten_zeros"
   ]
  },
  {
   "cell_type": "markdown",
   "metadata": {},
   "source": [
    "### Tensor datatypes\n"
   ]
  },
  {
   "cell_type": "code",
   "execution_count": 15,
   "metadata": {},
   "outputs": [
    {
     "data": {
      "text/plain": [
       "tensor([3., 6., 9.])"
      ]
     },
     "execution_count": 15,
     "metadata": {},
     "output_type": "execute_result"
    }
   ],
   "source": [
    "# float 32 tensor \n",
    "float_32_1_tensor = torch.tensor([3.0, 6.0, 9.0],\n",
    "                               dtype=None,) # defaults to None)\n",
    "float_32_1_tensor "
   ]
  },
  {
   "cell_type": "code",
   "execution_count": 16,
   "metadata": {},
   "outputs": [
    {
     "data": {
      "text/plain": [
       "torch.float32"
      ]
     },
     "execution_count": 16,
     "metadata": {},
     "output_type": "execute_result"
    }
   ],
   "source": [
    "float_32_1_tensor.dtype\n"
   ]
  },
  {
   "cell_type": "code",
   "execution_count": 17,
   "metadata": {},
   "outputs": [
    {
     "data": {
      "text/plain": [
       "tensor([3., 6., 9.], dtype=torch.float16)"
      ]
     },
     "execution_count": 17,
     "metadata": {},
     "output_type": "execute_result"
    }
   ],
   "source": [
    "# float 32 tensor \n",
    "float_16_tensor = torch.tensor([3.0, 6.0, 9.0],\n",
    "                               dtype=torch.float16,)\n",
    "float_16_tensor"
   ]
  },
  {
   "cell_type": "code",
   "execution_count": 18,
   "metadata": {},
   "outputs": [
    {
     "data": {
      "text/plain": [
       "tensor([3., 6., 9.], device='cuda:0')"
      ]
     },
     "execution_count": 18,
     "metadata": {},
     "output_type": "execute_result"
    }
   ],
   "source": [
    "float_32_tesnor = torch.tensor([3.0, 6.0, 9.0],\n",
    "                               dtype=None,\n",
    "                               device = \"cuda\", # what device is your tensor on (none for cpu)\n",
    "                               requires_grad=False) # whether or not to track gradients with this tensor opertaion(for now)\n",
    "                               \n",
    "\n",
    "float_32_tesnor"
   ]
  },
  {
   "cell_type": "markdown",
   "metadata": {},
   "source": [
    "##### tensor dataype\n",
    "**note:** tensor datatypes is one of the 3 big errors you'll run into with pytorch & deep learning\n",
    "\n",
    "**1.** tensor not right datatype\n",
    "\n",
    "**2.** tesnor not right shape\n",
    "\n",
    "**3.** tensor not on the right device"
   ]
  },
  {
   "cell_type": "code",
   "execution_count": 19,
   "metadata": {},
   "outputs": [
    {
     "data": {
      "text/plain": [
       "tensor([3., 6., 9.], device='cuda:0', dtype=torch.float16)"
      ]
     },
     "execution_count": 19,
     "metadata": {},
     "output_type": "execute_result"
    }
   ],
   "source": [
    "#how to change the datatype\n",
    "float_16_tensor = float_32_tesnor.type(torch.float16)\n",
    "float_16_tensor"
   ]
  },
  {
   "cell_type": "markdown",
   "metadata": {},
   "source": [
    "##### link for the pytorch datatype documentation\n",
    "https://pytorch.org/docs/stable/tensors.html"
   ]
  },
  {
   "cell_type": "code",
   "execution_count": 20,
   "metadata": {},
   "outputs": [
    {
     "data": {
      "text/plain": [
       "tensor([ 9., 36., 81.], device='cuda:0')"
      ]
     },
     "execution_count": 20,
     "metadata": {},
     "output_type": "execute_result"
    }
   ],
   "source": [
    "#what happens\n",
    "float_16_tensor * float_32_tesnor"
   ]
  },
  {
   "cell_type": "code",
   "execution_count": 21,
   "metadata": {},
   "outputs": [
    {
     "data": {
      "text/plain": [
       "tensor([3, 6, 9], device='cuda:0', dtype=torch.int32)"
      ]
     },
     "execution_count": 21,
     "metadata": {},
     "output_type": "execute_result"
    }
   ],
   "source": [
    "int_32_tensor = torch.tensor([3, 6, 9], dtype = torch.int32,\n",
    "                             device =\"cuda\",\n",
    "                             requires_grad = False)\n",
    "int_32_tensor"
   ]
  },
  {
   "cell_type": "code",
   "execution_count": 22,
   "metadata": {},
   "outputs": [
    {
     "data": {
      "text/plain": [
       "tensor([ 9., 36., 81.], device='cuda:0')"
      ]
     },
     "execution_count": 22,
     "metadata": {},
     "output_type": "execute_result"
    }
   ],
   "source": [
    "float_32_tesnor*int_32_tensor"
   ]
  },
  {
   "cell_type": "markdown",
   "metadata": {},
   "source": [
    "##### Getting the information from tensor \n",
    "\n",
    "**1.** tensor not right datatype - to do go get datatype from a tensor, can use `tesnor.dtype`\n",
    "\n",
    "**2.** tesnor not right shape - to get shape from a tensor, can use `tensor.shape`\n",
    "\n",
    "**3.** tensor not on the right device - to get deivr from a tensor, can use `tensor.device`"
   ]
  },
  {
   "cell_type": "code",
   "execution_count": 23,
   "metadata": {},
   "outputs": [
    {
     "data": {
      "text/plain": [
       "tensor([[0.2491, 0.8970, 0.4339, 0.6333],\n",
       "        [0.6563, 0.5885, 0.6216, 0.8614],\n",
       "        [0.1883, 0.1498, 0.9944, 0.9238]], device='cuda:0')"
      ]
     },
     "execution_count": 23,
     "metadata": {},
     "output_type": "execute_result"
    }
   ],
   "source": [
    "#create a tensor \n",
    "some_tensor = torch.rand((3,4),dtype = torch.float32, device = \"cuda\", requires_grad = False)\n",
    "some_tensor"
   ]
  },
  {
   "cell_type": "markdown",
   "metadata": {},
   "source": []
  },
  {
   "cell_type": "code",
   "execution_count": 24,
   "metadata": {},
   "outputs": [
    {
     "name": "stdout",
     "output_type": "stream",
     "text": [
      "Datatype of some_tensor: torch.float32\n",
      "Shape of some_tensor: torch.Size([3, 4])\n",
      "Device of some_tensor: cuda:0\n"
     ]
    }
   ],
   "source": [
    "#find out the details about some_tensor\n",
    "print(f\"Datatype of some_tensor: {some_tensor.dtype}\")\n",
    "print(f\"Shape of some_tensor: {some_tensor.shape}\")\n",
    "print(f\"Device of some_tensor: {some_tensor.device}\")"
   ]
  },
  {
   "cell_type": "code",
   "execution_count": 25,
   "metadata": {},
   "outputs": [
    {
     "data": {
      "text/plain": [
       "tensor([[0.4666, 0.5525, 0.9065, 0.8753],\n",
       "        [0.9745, 0.7049, 0.2479, 0.6737],\n",
       "        [0.8782, 0.8183, 0.0499, 0.3750]])"
      ]
     },
     "execution_count": 25,
     "metadata": {},
     "output_type": "execute_result"
    }
   ],
   "source": [
    "#create a tensor1\n",
    "some_tensor1 = torch.rand(3,4)\n",
    "some_tensor1"
   ]
  },
  {
   "cell_type": "code",
   "execution_count": 26,
   "metadata": {},
   "outputs": [
    {
     "name": "stdout",
     "output_type": "stream",
     "text": [
      "Datatype of some_tensor: torch.float32\n",
      "Shape of some_tensor: torch.Size([3, 4])\n",
      "Device of some_tensor: cpu\n"
     ]
    }
   ],
   "source": [
    "#find out the details about some_tensor\n",
    "print(f\"Datatype of some_tensor: {some_tensor1.dtype}\")\n",
    "print(f\"Shape of some_tensor: {some_tensor1.shape}\")\n",
    "print(f\"Device of some_tensor: {some_tensor1.device}\")"
   ]
  },
  {
   "cell_type": "markdown",
   "metadata": {},
   "source": [
    "#### Manipulating Tensor (tensor operation)\n",
    "\n",
    "Tensor opertations includes:\n",
    "\n",
    "**1.** Addition\n",
    "\n",
    "**2.** Subtration\n",
    "\n",
    "**3.** Multiplication(element - wise)\n",
    "\n",
    "**4.** Division \n",
    "\n",
    "**5.** Matrix multiplication"
   ]
  },
  {
   "cell_type": "code",
   "execution_count": 27,
   "metadata": {},
   "outputs": [
    {
     "data": {
      "text/plain": [
       "tensor([11, 12, 13])"
      ]
     },
     "execution_count": 27,
     "metadata": {},
     "output_type": "execute_result"
    }
   ],
   "source": [
    "# create a tensor and add 10 to it\n",
    "tensor = torch.tensor([1,2,3])\n",
    "tensor +10"
   ]
  },
  {
   "cell_type": "code",
   "execution_count": 28,
   "metadata": {},
   "outputs": [
    {
     "data": {
      "text/plain": [
       "tensor([10, 20, 30])"
      ]
     },
     "execution_count": 28,
     "metadata": {},
     "output_type": "execute_result"
    }
   ],
   "source": [
    "#multiplication tenor with 10\n",
    "tensor*10"
   ]
  },
  {
   "cell_type": "code",
   "execution_count": 29,
   "metadata": {},
   "outputs": [
    {
     "data": {
      "text/plain": [
       "tensor([-9, -8, -7])"
      ]
     },
     "execution_count": 29,
     "metadata": {},
     "output_type": "execute_result"
    }
   ],
   "source": [
    "#subtration 10\n",
    "tensor -10"
   ]
  },
  {
   "cell_type": "code",
   "execution_count": 30,
   "metadata": {},
   "outputs": [
    {
     "data": {
      "text/plain": [
       "tensor([10, 20, 30])"
      ]
     },
     "execution_count": 30,
     "metadata": {},
     "output_type": "execute_result"
    }
   ],
   "source": [
    "# Try out Pytorch in_built function\n",
    "# torch.add\n",
    "torch.mul(tensor, 10)"
   ]
  },
  {
   "cell_type": "markdown",
   "metadata": {},
   "source": [
    "### Matric multiplication\n",
    "\n",
    "Tow main ways of performing multiplication in nerural network and deeplearning \n",
    "\n",
    "**1.** Element- wise multiplication\n",
    "\n",
    "**2.** Matrix multiplication (dot product )\n",
    "\n",
    "`There are tow main rules that performing matrix multiplication need to satisy:`\n",
    "\n",
    "**1.** The `inner dimension` must match:\n",
    "* `(3,2) @ (3,2)` won't work\n",
    "* `(2,3) @ (3,2)` will work\n",
    "* `(3,2) @ (2,3)` will work\n",
    "* **note** @ represent dot product like matrix multiplication\n",
    "\n",
    "**2.** The resulting matrix has the shape of `outer dimensions`\n",
    "* `(2,3) @ (3,2)` -> `(2,2)`\n",
    "* `(3,2) @ (2,3)` -> `(3,3)`"
   ]
  },
  {
   "cell_type": "code",
   "execution_count": 31,
   "metadata": {},
   "outputs": [
    {
     "name": "stdout",
     "output_type": "stream",
     "text": [
      "tensor([1, 2, 3]) * tensor([1, 2, 3])\n",
      "Equals: tensor([1, 4, 9])\n"
     ]
    }
   ],
   "source": [
    "#Element Wise Multiplication\n",
    "print( tensor,\"*\",tensor)\n",
    "print(f\"Equals: {tensor * tensor}\")"
   ]
  },
  {
   "cell_type": "code",
   "execution_count": 32,
   "metadata": {},
   "outputs": [
    {
     "data": {
      "text/plain": [
       "tensor(14)"
      ]
     },
     "execution_count": 32,
     "metadata": {},
     "output_type": "execute_result"
    }
   ],
   "source": [
    "# Matrix multiplication \n",
    "torch.matmul(tensor,tensor) #dot product 1*1 + 2*2 + 3*3 = 14"
   ]
  },
  {
   "cell_type": "code",
   "execution_count": 33,
   "metadata": {},
   "outputs": [
    {
     "name": "stdout",
     "output_type": "stream",
     "text": [
      "CPU times: total: 0 ns\n",
      "Wall time: 0 ns\n",
      "tensor(14)\n"
     ]
    }
   ],
   "source": [
    "# Matrix multiplication by hand\n",
    "%time\n",
    "value = 0\n",
    "for i in range(len(tensor)):\n",
    "  value += tensor[i]*tensor[i]\n",
    "print(value)"
   ]
  },
  {
   "cell_type": "code",
   "execution_count": 34,
   "metadata": {},
   "outputs": [
    {
     "name": "stdout",
     "output_type": "stream",
     "text": [
      "CPU times: total: 0 ns\n",
      "Wall time: 0 ns\n"
     ]
    },
    {
     "data": {
      "text/plain": [
       "tensor(14)"
      ]
     },
     "execution_count": 34,
     "metadata": {},
     "output_type": "execute_result"
    }
   ],
   "source": [
    "%time\n",
    "torch.matmul(tensor,tensor)"
   ]
  },
  {
   "cell_type": "code",
   "execution_count": 35,
   "metadata": {},
   "outputs": [
    {
     "data": {
      "text/plain": [
       "tensor([[1.2537, 1.3762],\n",
       "        [0.5559, 0.4221]])"
      ]
     },
     "execution_count": 35,
     "metadata": {},
     "output_type": "execute_result"
    }
   ],
   "source": [
    "torch.matmul(torch.rand(2,3),torch.rand(3,2))"
   ]
  },
  {
   "cell_type": "markdown",
   "metadata": {},
   "source": [
    "### Use this for your experiments\n",
    "https://matrixmultiplication.xyz/"
   ]
  },
  {
   "cell_type": "code",
   "execution_count": 36,
   "metadata": {},
   "outputs": [],
   "source": [
    "tensor_A = torch.tensor([[1,2],\n",
    "                          [3,4],\n",
    "                          [5,6]])\n",
    "tensor_B = torch.tensor([[7,10],\n",
    "                          [8,11],\n",
    "                          [9,12]])\n",
    "#torch.mm(tensor_A, tensor_B) # torch.mm is the same as torch.matmul"
   ]
  },
  {
   "cell_type": "markdown",
   "metadata": {},
   "source": [
    "`RuntimeError: mat1 and mat2 shapes cannot be multiplied (3x2 and 3x2)`"
   ]
  },
  {
   "cell_type": "code",
   "execution_count": 37,
   "metadata": {},
   "outputs": [
    {
     "data": {
      "text/plain": [
       "(torch.Size([3, 2]), torch.Size([3, 2]))"
      ]
     },
     "execution_count": 37,
     "metadata": {},
     "output_type": "execute_result"
    }
   ],
   "source": [
    "tensor_A.shape, tensor_B.shape"
   ]
  },
  {
   "cell_type": "markdown",
   "metadata": {},
   "source": [
    "To fix our tensor shape issues , we can manipulate the shape of the tensor using a `transpose`\n",
    "\n",
    "A `transpose` switches the axes or dimensions of given tensor"
   ]
  },
  {
   "cell_type": "code",
   "execution_count": 38,
   "metadata": {},
   "outputs": [
    {
     "name": "stdout",
     "output_type": "stream",
     "text": [
      "tensor([[ 7,  8,  9],\n",
      "        [10, 11, 12]])\n"
     ]
    },
    {
     "data": {
      "text/plain": [
       "torch.Size([2, 3])"
      ]
     },
     "execution_count": 38,
     "metadata": {},
     "output_type": "execute_result"
    }
   ],
   "source": [
    "print(tensor_B.T)\n",
    "tensor_B.T.shape"
   ]
  },
  {
   "cell_type": "code",
   "execution_count": 39,
   "metadata": {},
   "outputs": [
    {
     "name": "stdout",
     "output_type": "stream",
     "text": [
      "tensor([[ 7, 10],\n",
      "        [ 8, 11],\n",
      "        [ 9, 12]])\n"
     ]
    },
    {
     "data": {
      "text/plain": [
       "torch.Size([3, 2])"
      ]
     },
     "execution_count": 39,
     "metadata": {},
     "output_type": "execute_result"
    }
   ],
   "source": [
    "print(tensor_B)\n",
    "tensor_B.shape"
   ]
  },
  {
   "cell_type": "markdown",
   "metadata": {},
   "source": [
    "##### as you can see that the transpose change the dimension of the matrix but not the elements so it will effect the dimensions of the matrix but not the result or the output of the data set\n",
    "`T` represent `transpose`"
   ]
  },
  {
   "cell_type": "code",
   "execution_count": 40,
   "metadata": {},
   "outputs": [
    {
     "data": {
      "text/plain": [
       "torch.Size([3, 3])"
      ]
     },
     "execution_count": 40,
     "metadata": {},
     "output_type": "execute_result"
    }
   ],
   "source": [
    "torch.mm(tensor_A, tensor_B.T).shape"
   ]
  },
  {
   "cell_type": "markdown",
   "metadata": {},
   "source": [
    "### finding the min, max, mean, sum, etc(tensor aggregation)\n",
    "\n"
   ]
  },
  {
   "cell_type": "code",
   "execution_count": 41,
   "metadata": {},
   "outputs": [
    {
     "data": {
      "text/plain": [
       "tensor([ 1, 11, 21, 31, 41, 51, 61, 71, 81, 91])"
      ]
     },
     "execution_count": 41,
     "metadata": {},
     "output_type": "execute_result"
    }
   ],
   "source": [
    "#create a tensor\n",
    "x = torch.arange(1,100,10)\n",
    "x"
   ]
  },
  {
   "cell_type": "code",
   "execution_count": 42,
   "metadata": {},
   "outputs": [
    {
     "data": {
      "text/plain": [
       "(tensor(1), tensor(1), tensor(91))"
      ]
     },
     "execution_count": 42,
     "metadata": {},
     "output_type": "execute_result"
    }
   ],
   "source": [
    "#find the min\n",
    "torch.min(x), x.min(), x.max()"
   ]
  },
  {
   "cell_type": "markdown",
   "metadata": {},
   "source": [
    "`RuntimeError `                             Traceback (most recent call last)\n",
    "`Cell In[45], line 1`\n",
    "`----> 1 torch.mean(x)`\n",
    "\n",
    "``RuntimeError: mean(): could not infer output dtype. Input dtype must be either a floating point or complex dtype. Got: Long``"
   ]
  },
  {
   "cell_type": "code",
   "execution_count": 43,
   "metadata": {},
   "outputs": [
    {
     "data": {
      "text/plain": [
       "(tensor(46.), tensor(46.))"
      ]
     },
     "execution_count": 43,
     "metadata": {},
     "output_type": "execute_result"
    }
   ],
   "source": [
    "torch.mean(x.type(torch.float32)), x.type(torch.float32).mean()\n",
    "# Find the mean - note: the torch.mean() function requires a tensor of float32 datatype to work"
   ]
  },
  {
   "cell_type": "code",
   "execution_count": 44,
   "metadata": {},
   "outputs": [
    {
     "data": {
      "text/plain": [
       "(tensor(460), tensor(460))"
      ]
     },
     "execution_count": 44,
     "metadata": {},
     "output_type": "execute_result"
    }
   ],
   "source": [
    "# Find the sum\n",
    "torch.sum(x), x.sum()"
   ]
  },
  {
   "cell_type": "markdown",
   "metadata": {},
   "source": [
    "### **Finding the positional min and max**"
   ]
  },
  {
   "cell_type": "code",
   "execution_count": 45,
   "metadata": {},
   "outputs": [
    {
     "data": {
      "text/plain": [
       "tensor([ 1, 11, 21, 31, 41, 51, 61, 71, 81, 91])"
      ]
     },
     "execution_count": 45,
     "metadata": {},
     "output_type": "execute_result"
    }
   ],
   "source": [
    "x\n"
   ]
  },
  {
   "cell_type": "code",
   "execution_count": 46,
   "metadata": {},
   "outputs": [
    {
     "data": {
      "text/plain": [
       "tensor(0)"
      ]
     },
     "execution_count": 46,
     "metadata": {},
     "output_type": "execute_result"
    }
   ],
   "source": [
    "#find the positional in tesnor that has the minimum value with argmin() -> returns index position of target tensor where the minimum value occurs\n",
    "x.argmin()"
   ]
  },
  {
   "cell_type": "code",
   "execution_count": 47,
   "metadata": {},
   "outputs": [
    {
     "data": {
      "text/plain": [
       "tensor(1)"
      ]
     },
     "execution_count": 47,
     "metadata": {},
     "output_type": "execute_result"
    }
   ],
   "source": [
    "x[0]"
   ]
  },
  {
   "cell_type": "code",
   "execution_count": 48,
   "metadata": {},
   "outputs": [
    {
     "data": {
      "text/plain": [
       "tensor(9)"
      ]
     },
     "execution_count": 48,
     "metadata": {},
     "output_type": "execute_result"
    }
   ],
   "source": [
    "#find the positional in tesnor that has the maximum value with argmax() -> returns index position of target tensor where the maximum value occurs\n",
    "x.argmax()"
   ]
  },
  {
   "cell_type": "code",
   "execution_count": 49,
   "metadata": {},
   "outputs": [
    {
     "data": {
      "text/plain": [
       "tensor(91)"
      ]
     },
     "execution_count": 49,
     "metadata": {},
     "output_type": "execute_result"
    }
   ],
   "source": [
    "x[9]"
   ]
  },
  {
   "cell_type": "markdown",
   "metadata": {},
   "source": [
    "# **Reshaping, Stacking, Squeezing and Unsqueezing tensors**\n",
    "\n",
    "**Reshaping** - `reshapes an input tensor to a defined shape`\n",
    "\n",
    "**View** - `Return a view of an input tensor of certain shape but keep the same memory as the original tensor `\n",
    "\n",
    "**Stacking** - `combine multiple tensor on top of each other (vstack) or side by side(hstack)`*https://pytorch.org/docs/stable/generated/torch.stack.html*\n",
    "\n",
    "   ###**(vstake)** - *https://pytorch.org/docs/stable/generated/torch.vstack.html*\n",
    "\n",
    "   ###**(hstack)** - *https://pytorch.org/docs/stable/generated/torch.hstack.html*\n",
    "\n",
    "**Squeeze** -`remove all` 1 `dimension from a tensor`\n",
    "\n",
    "**Unsqueeze** - `add a` 1 `dimension to a target tensor`\n",
    "\n",
    "**Permute** - `Return a view of the input with dimensions permuted (swapped) in certain way`"
   ]
  },
  {
   "cell_type": "code",
   "execution_count": 50,
   "metadata": {},
   "outputs": [
    {
     "data": {
      "text/plain": [
       "(tensor([1., 2., 3., 4., 5., 6., 7., 8., 9.]), torch.Size([9]))"
      ]
     },
     "execution_count": 50,
     "metadata": {},
     "output_type": "execute_result"
    }
   ],
   "source": [
    "x = torch.arange(1.,10.)\n",
    "x, x.shape"
   ]
  },
  {
   "cell_type": "code",
   "execution_count": 51,
   "metadata": {},
   "outputs": [],
   "source": [
    "# add an extra dimension\n",
    "#x_reshaped = x.reshape(1,7)\n",
    "#x_reshaped, x_reshaped.shape\n",
    "#/---------------------------------------------------------------------------\n",
    "#RuntimeError                              Traceback (most recent call last)\n",
    "#Cell In[52], line 2\n",
    "#     1 # add an extra dimension\n",
    "#--> 2 x_reshaped = x.reshape(1,7)\n",
    "#   3 x_reshaped, x_reshaped.shape\n",
    "\n",
    "#RuntimeError: shape '[1, 7]' is invalid for input of size 9"
   ]
  },
  {
   "cell_type": "code",
   "execution_count": 52,
   "metadata": {},
   "outputs": [
    {
     "data": {
      "text/plain": [
       "(tensor([[1., 2., 3., 4., 5., 6., 7., 8., 9.]]), torch.Size([1, 9]))"
      ]
     },
     "execution_count": 52,
     "metadata": {},
     "output_type": "execute_result"
    }
   ],
   "source": [
    "x_reshaped = x.reshape(1,9)\n",
    "x_reshaped, x_reshaped.shape"
   ]
  },
  {
   "cell_type": "code",
   "execution_count": 53,
   "metadata": {},
   "outputs": [
    {
     "data": {
      "text/plain": [
       "(tensor([[1.],\n",
       "         [2.],\n",
       "         [3.],\n",
       "         [4.],\n",
       "         [5.],\n",
       "         [6.],\n",
       "         [7.],\n",
       "         [8.],\n",
       "         [9.]]),\n",
       " torch.Size([9, 1]))"
      ]
     },
     "execution_count": 53,
     "metadata": {},
     "output_type": "execute_result"
    }
   ],
   "source": [
    "x_reshaped = x.reshape(9,1)\n",
    "x_reshaped, x_reshaped.shape"
   ]
  },
  {
   "cell_type": "code",
   "execution_count": 54,
   "metadata": {},
   "outputs": [
    {
     "data": {
      "text/plain": [
       "(tensor([[1., 2., 3., 4., 5., 6., 7., 8., 9.]]), torch.Size([1, 9]))"
      ]
     },
     "execution_count": 54,
     "metadata": {},
     "output_type": "execute_result"
    }
   ],
   "source": [
    "#change the view\n",
    "z = x.view(1,9)\n",
    "z, z.shape"
   ]
  },
  {
   "cell_type": "code",
   "execution_count": 55,
   "metadata": {},
   "outputs": [
    {
     "data": {
      "text/plain": [
       "(tensor([[5., 2., 3., 4., 5., 6., 7., 8., 9.]]),\n",
       " tensor([5., 2., 3., 4., 5., 6., 7., 8., 9.]))"
      ]
     },
     "execution_count": 55,
     "metadata": {},
     "output_type": "execute_result"
    }
   ],
   "source": [
    "#changing z changes x(because a view of a tensor shares the same memory as the original input)\n",
    "z[:,0] = 5\n",
    "z, x"
   ]
  },
  {
   "cell_type": "code",
   "execution_count": 56,
   "metadata": {},
   "outputs": [
    {
     "data": {
      "text/plain": [
       "tensor([[5., 2., 3., 4., 5., 6., 7., 8., 9.],\n",
       "        [5., 2., 3., 4., 5., 6., 7., 8., 9.],\n",
       "        [5., 2., 3., 4., 5., 6., 7., 8., 9.]])"
      ]
     },
     "execution_count": 56,
     "metadata": {},
     "output_type": "execute_result"
    }
   ],
   "source": [
    "#stack tensors on top of each other\n",
    "x_stacked = torch.stack([x,x,x],dim=0)\n",
    "x_stacked "
   ]
  },
  {
   "cell_type": "code",
   "execution_count": 57,
   "metadata": {},
   "outputs": [
    {
     "name": "stdout",
     "output_type": "stream",
     "text": [
      "Previous tensor: tensor([[5.],\n",
      "        [2.],\n",
      "        [3.],\n",
      "        [4.],\n",
      "        [5.],\n",
      "        [6.],\n",
      "        [7.],\n",
      "        [8.],\n",
      "        [9.]])\n",
      "Previous shape: torch.Size([9, 1])\n",
      "\n",
      "New tensor: tensor([5., 2., 3., 4., 5., 6., 7., 8., 9.])\n",
      "\n",
      "New shape: torch.Size([9])\n"
     ]
    }
   ],
   "source": [
    "#squeeze\n",
    "print(f\"Previous tensor: {x_reshaped}\")\n",
    "print(f\"Previous shape: {x_reshaped.shape}\")\n",
    "\n",
    "x_reshaped = x_reshaped.squeeze()\n",
    "print(f\"\\nNew tensor: {x_reshaped}\")\n",
    "print(f\"\\nNew shape: {x_reshaped.shape}\")"
   ]
  },
  {
   "cell_type": "code",
   "execution_count": 58,
   "metadata": {},
   "outputs": [
    {
     "name": "stdout",
     "output_type": "stream",
     "text": [
      "Previous Target: tensor([[5., 2., 3., 4., 5., 6., 7., 8., 9.],\n",
      "        [5., 2., 3., 4., 5., 6., 7., 8., 9.],\n",
      "        [5., 2., 3., 4., 5., 6., 7., 8., 9.]])\n",
      "Previous shape: torch.Size([3, 9])\n",
      "\n",
      "New Target: tensor([[[5.],\n",
      "         [2.],\n",
      "         [3.],\n",
      "         [4.],\n",
      "         [5.],\n",
      "         [6.],\n",
      "         [7.],\n",
      "         [8.],\n",
      "         [9.]],\n",
      "\n",
      "        [[5.],\n",
      "         [2.],\n",
      "         [3.],\n",
      "         [4.],\n",
      "         [5.],\n",
      "         [6.],\n",
      "         [7.],\n",
      "         [8.],\n",
      "         [9.]],\n",
      "\n",
      "        [[5.],\n",
      "         [2.],\n",
      "         [3.],\n",
      "         [4.],\n",
      "         [5.],\n",
      "         [6.],\n",
      "         [7.],\n",
      "         [8.],\n",
      "         [9.]]])\n",
      "New shape: torch.Size([3, 9, 1])\n"
     ]
    }
   ],
   "source": [
    "# torch.unqueeze() - adds a single dimension to a target tensor at a specified dimension\n",
    "print(f\"Previous Target: {x_stacked}\")\n",
    "print(f\"Previous shape: {x_stacked.shape}\")\n",
    "\n",
    "#add an extra dimension with unsqueeze\n",
    "x_unsqueezed = x_stacked.unsqueeze(dim=2)\n",
    "print(f\"\\nNew Target: {x_unsqueezed}\")\n",
    "print(f\"New shape: {x_unsqueezed.shape}\")"
   ]
  },
  {
   "cell_type": "code",
   "execution_count": 59,
   "metadata": {},
   "outputs": [
    {
     "name": "stdout",
     "output_type": "stream",
     "text": [
      "Previous shape: torch.Size([224, 224, 3])\n",
      "New shape: torch.Size([224, 3, 224])\n"
     ]
    }
   ],
   "source": [
    "#torch.permute - rearranges the dimensions of a target tensor in a specified order\n",
    "x_original = torch.rand(size=(224,224,3)) # [height, width, colour_channels]\n",
    "\n",
    "# Permute the original tensor to rearrange the axis (or dim) order\n",
    "x_permuted = x_original.permute(0, 2, 1) # shifts axis 0->1, 1->2, 2->0)\n",
    "\n",
    "print(f\"Previous shape: {x_original.shape}\")\n",
    "print(f\"New shape: {x_permuted.shape}\")  # [height, colour_channels, width]"
   ]
  },
  {
   "cell_type": "code",
   "execution_count": 60,
   "metadata": {},
   "outputs": [
    {
     "data": {
      "text/plain": [
       "tensor([[8.2987e-01, 4.1024e-01, 4.5673e-01],\n",
       "        [1.0478e-01, 7.1705e-01, 5.2699e-01],\n",
       "        [3.7983e-01, 5.2438e-01, 9.3459e-01],\n",
       "        [8.2548e-02, 3.1869e-01, 7.9097e-01],\n",
       "        [6.0387e-01, 9.8508e-01, 8.9849e-01],\n",
       "        [5.0281e-01, 4.0368e-01, 6.1572e-01],\n",
       "        [2.8319e-01, 8.0363e-01, 4.9223e-01],\n",
       "        [2.4114e-01, 3.9685e-01, 2.1285e-01],\n",
       "        [2.8404e-01, 6.5723e-01, 3.5327e-01],\n",
       "        [3.2298e-02, 5.1495e-01, 3.8654e-01],\n",
       "        [3.0611e-01, 8.8120e-01, 3.7768e-01],\n",
       "        [9.7700e-01, 9.7219e-01, 5.0259e-01],\n",
       "        [5.3342e-01, 1.2166e-01, 9.7228e-01],\n",
       "        [3.2520e-01, 9.1845e-01, 2.6627e-01],\n",
       "        [3.6884e-01, 7.9158e-01, 6.3939e-01],\n",
       "        [6.4219e-01, 1.5166e-01, 3.9831e-01],\n",
       "        [9.3482e-01, 3.8761e-01, 8.3397e-01],\n",
       "        [6.0730e-01, 2.2731e-02, 4.5541e-01],\n",
       "        [1.5335e-02, 6.8849e-01, 2.5266e-01],\n",
       "        [7.9806e-01, 3.4571e-01, 7.2815e-01],\n",
       "        [8.5776e-01, 7.5148e-01, 7.3858e-01],\n",
       "        [6.7593e-01, 7.2768e-01, 6.1884e-01],\n",
       "        [5.5943e-01, 5.2577e-01, 3.3233e-01],\n",
       "        [9.0134e-01, 9.3004e-01, 4.4061e-01],\n",
       "        [5.6095e-01, 6.9468e-01, 6.7371e-01],\n",
       "        [7.0858e-01, 3.7031e-01, 8.9427e-01],\n",
       "        [7.0411e-01, 4.5548e-01, 4.1659e-01],\n",
       "        [9.9082e-01, 3.9736e-02, 5.3970e-01],\n",
       "        [4.5775e-01, 2.1035e-02, 2.6608e-01],\n",
       "        [6.4605e-01, 2.9203e-01, 8.4361e-01],\n",
       "        [7.2782e-01, 4.2472e-01, 9.8181e-01],\n",
       "        [5.6894e-01, 3.2918e-01, 8.7939e-01],\n",
       "        [4.9615e-01, 4.2794e-01, 1.6184e-01],\n",
       "        [8.7717e-01, 4.3481e-01, 7.4462e-01],\n",
       "        [6.7654e-01, 6.7858e-01, 9.2108e-01],\n",
       "        [4.8366e-01, 7.9841e-01, 2.4497e-01],\n",
       "        [7.2085e-01, 5.0522e-01, 8.2155e-01],\n",
       "        [7.9761e-02, 7.2157e-02, 3.2917e-02],\n",
       "        [2.6695e-01, 6.4268e-01, 9.7708e-01],\n",
       "        [9.4671e-01, 8.7738e-01, 5.2814e-01],\n",
       "        [3.5240e-01, 7.3830e-01, 2.3819e-01],\n",
       "        [4.3462e-01, 7.2051e-01, 2.8096e-01],\n",
       "        [5.4300e-01, 8.3741e-01, 9.0421e-01],\n",
       "        [9.5132e-01, 9.0534e-01, 8.0481e-01],\n",
       "        [4.9431e-01, 8.8920e-01, 9.8304e-01],\n",
       "        [7.8341e-01, 2.5140e-01, 7.4728e-01],\n",
       "        [3.0444e-01, 1.7649e-01, 5.1224e-02],\n",
       "        [3.4416e-01, 1.0128e-01, 2.6573e-01],\n",
       "        [9.8129e-01, 4.4779e-01, 1.3029e-01],\n",
       "        [9.9045e-01, 8.3932e-01, 5.9910e-01],\n",
       "        [1.8698e-01, 7.4877e-01, 6.2222e-01],\n",
       "        [7.1342e-01, 8.0851e-01, 4.8558e-03],\n",
       "        [5.7900e-01, 4.9033e-01, 3.9153e-01],\n",
       "        [7.9306e-01, 2.0466e-01, 1.6606e-01],\n",
       "        [5.8532e-01, 2.7090e-01, 6.9750e-01],\n",
       "        [5.7439e-01, 8.5428e-01, 1.4890e-01],\n",
       "        [4.1081e-01, 6.4268e-01, 7.1640e-01],\n",
       "        [1.0195e-03, 9.2544e-01, 9.4059e-01],\n",
       "        [8.8197e-01, 2.3669e-01, 9.6819e-01],\n",
       "        [4.2071e-01, 1.1287e-01, 4.7306e-01],\n",
       "        [3.8891e-01, 2.6813e-02, 7.9939e-01],\n",
       "        [1.4099e-01, 9.5275e-01, 6.9048e-01],\n",
       "        [4.9842e-01, 4.2422e-01, 5.9651e-01],\n",
       "        [3.9813e-01, 9.6870e-01, 1.7352e-02],\n",
       "        [9.5776e-01, 5.4356e-01, 2.0050e-01],\n",
       "        [4.9601e-01, 5.7666e-01, 5.0137e-02],\n",
       "        [9.2077e-01, 8.3618e-01, 8.7012e-01],\n",
       "        [6.8380e-01, 7.7427e-02, 6.9460e-01],\n",
       "        [8.6052e-01, 2.0925e-01, 8.7586e-01],\n",
       "        [1.0490e-01, 5.1199e-01, 4.1024e-02],\n",
       "        [4.0920e-01, 3.7852e-01, 7.2167e-01],\n",
       "        [5.6836e-01, 7.6922e-03, 7.5628e-01],\n",
       "        [7.0201e-01, 9.9644e-01, 9.6291e-01],\n",
       "        [9.6794e-01, 6.9168e-02, 9.5317e-02],\n",
       "        [8.5864e-01, 8.0286e-01, 5.2934e-02],\n",
       "        [5.6790e-01, 1.8909e-01, 5.3391e-01],\n",
       "        [1.5466e-01, 6.9017e-01, 2.7373e-01],\n",
       "        [8.1294e-01, 7.1598e-01, 7.8380e-01],\n",
       "        [2.2910e-01, 5.3754e-01, 1.4807e-01],\n",
       "        [8.5544e-01, 6.4013e-01, 2.1226e-01],\n",
       "        [3.4461e-01, 7.1906e-01, 4.9000e-01],\n",
       "        [5.2741e-01, 1.7662e-01, 1.9144e-01],\n",
       "        [4.3683e-01, 8.4975e-01, 2.0562e-01],\n",
       "        [7.0556e-02, 5.9551e-02, 6.6700e-01],\n",
       "        [4.6034e-01, 1.2723e-01, 7.1830e-01],\n",
       "        [9.6463e-01, 9.4907e-01, 3.4992e-02],\n",
       "        [7.3099e-01, 3.4676e-01, 1.2412e-01],\n",
       "        [9.2038e-01, 7.8795e-03, 3.9800e-01],\n",
       "        [6.6787e-01, 2.5210e-01, 7.7959e-01],\n",
       "        [5.6810e-01, 1.3863e-02, 2.8041e-01],\n",
       "        [9.2138e-01, 3.1560e-01, 6.0183e-01],\n",
       "        [8.0131e-01, 1.3238e-01, 1.0264e-01],\n",
       "        [7.3481e-01, 3.7261e-01, 7.5820e-01],\n",
       "        [2.5898e-01, 9.0636e-01, 2.0093e-01],\n",
       "        [5.6478e-01, 4.8360e-01, 1.8909e-01],\n",
       "        [8.4000e-01, 8.9719e-02, 9.3112e-01],\n",
       "        [3.9977e-01, 6.2804e-01, 1.7146e-01],\n",
       "        [7.6755e-01, 6.3044e-01, 3.8119e-01],\n",
       "        [2.3614e-02, 9.7219e-01, 7.3504e-01],\n",
       "        [4.9270e-01, 1.4989e-01, 3.6806e-01],\n",
       "        [7.5889e-01, 6.9590e-01, 7.3292e-01],\n",
       "        [8.8994e-01, 3.9353e-01, 1.5860e-01],\n",
       "        [8.6579e-03, 8.0556e-01, 2.1498e-02],\n",
       "        [1.8851e-01, 1.0442e-01, 3.3121e-01],\n",
       "        [2.8137e-01, 3.8431e-01, 8.7507e-01],\n",
       "        [5.1117e-01, 6.3429e-01, 7.7251e-02],\n",
       "        [4.6656e-01, 6.6635e-01, 1.9095e-01],\n",
       "        [1.3394e-01, 8.2080e-01, 7.1613e-01],\n",
       "        [3.5932e-01, 7.9926e-01, 4.8233e-01],\n",
       "        [2.2401e-01, 9.9978e-01, 5.1047e-01],\n",
       "        [5.4478e-01, 2.9979e-01, 7.6184e-01],\n",
       "        [9.5544e-01, 6.7889e-01, 8.4767e-02],\n",
       "        [3.9606e-01, 2.9187e-01, 9.5766e-01],\n",
       "        [8.4543e-01, 8.2982e-01, 6.4363e-01],\n",
       "        [1.9885e-01, 8.4454e-01, 4.3227e-01],\n",
       "        [1.9154e-01, 9.5424e-01, 6.0695e-01],\n",
       "        [7.0349e-01, 2.5784e-01, 2.1149e-01],\n",
       "        [5.0997e-01, 3.5333e-01, 2.2836e-01],\n",
       "        [9.9620e-01, 2.9007e-01, 6.6059e-01],\n",
       "        [2.5852e-01, 1.2039e-01, 6.6239e-02],\n",
       "        [4.9754e-01, 6.0224e-02, 8.3996e-01],\n",
       "        [5.8634e-01, 5.3942e-01, 6.8443e-01],\n",
       "        [3.0619e-01, 6.3454e-01, 7.7617e-01],\n",
       "        [4.1124e-01, 3.2950e-01, 4.8721e-01],\n",
       "        [7.8736e-02, 2.6663e-01, 3.0161e-01],\n",
       "        [5.7318e-01, 5.0827e-01, 1.7296e-01],\n",
       "        [2.8082e-01, 9.0524e-02, 3.8244e-01],\n",
       "        [1.0380e-01, 6.0026e-01, 2.6697e-01],\n",
       "        [7.1799e-01, 7.3187e-01, 6.9590e-01],\n",
       "        [2.1150e-01, 1.0171e-01, 6.0008e-02],\n",
       "        [3.6600e-01, 3.0202e-01, 9.7319e-01],\n",
       "        [3.0436e-02, 3.0959e-01, 1.7398e-01],\n",
       "        [7.7712e-01, 2.0995e-01, 7.2687e-02],\n",
       "        [9.9492e-01, 1.3749e-01, 8.6204e-01],\n",
       "        [7.0691e-01, 7.0906e-01, 4.3859e-01],\n",
       "        [9.5034e-01, 4.7839e-01, 5.2104e-01],\n",
       "        [4.1894e-01, 8.3029e-05, 8.7705e-01],\n",
       "        [5.7466e-01, 8.3407e-01, 6.3107e-01],\n",
       "        [4.1152e-02, 8.4834e-01, 7.5733e-02],\n",
       "        [1.1761e-01, 9.2010e-01, 5.3320e-01],\n",
       "        [6.5364e-01, 4.3132e-01, 1.9620e-01],\n",
       "        [6.1624e-01, 1.0628e-01, 8.3875e-01],\n",
       "        [5.0613e-01, 7.5936e-01, 6.9320e-01],\n",
       "        [1.7373e-01, 1.9023e-01, 9.5756e-01],\n",
       "        [6.2095e-01, 3.5011e-03, 1.1543e-01],\n",
       "        [9.3331e-01, 8.4251e-01, 9.1806e-01],\n",
       "        [4.1575e-01, 5.3483e-01, 6.6247e-01],\n",
       "        [2.3826e-01, 4.9141e-02, 6.9949e-01],\n",
       "        [3.1112e-01, 9.7893e-01, 7.9791e-01],\n",
       "        [5.1781e-01, 8.1693e-02, 3.0681e-01],\n",
       "        [6.7504e-01, 1.6350e-04, 2.3178e-01],\n",
       "        [9.9849e-01, 2.6281e-01, 9.8807e-01],\n",
       "        [1.6385e-01, 4.1243e-01, 7.0663e-01],\n",
       "        [3.7498e-01, 7.2748e-01, 9.4105e-01],\n",
       "        [2.6836e-01, 5.6580e-01, 3.4745e-01],\n",
       "        [5.6156e-01, 5.2480e-01, 7.3313e-01],\n",
       "        [1.7571e-01, 1.5584e-01, 3.2839e-01],\n",
       "        [4.1796e-01, 4.8439e-01, 3.1810e-01],\n",
       "        [9.4385e-01, 2.0563e-01, 5.5529e-01],\n",
       "        [9.0519e-01, 1.7647e-01, 5.4383e-01],\n",
       "        [4.4947e-01, 4.4385e-01, 8.9339e-01],\n",
       "        [3.5169e-02, 1.5453e-01, 8.7948e-01],\n",
       "        [3.0213e-01, 7.9986e-01, 7.7471e-01],\n",
       "        [2.9415e-01, 8.4917e-01, 8.6837e-01],\n",
       "        [3.9879e-01, 6.6341e-01, 4.6408e-01],\n",
       "        [5.8011e-01, 3.7849e-01, 4.5440e-01],\n",
       "        [2.9181e-01, 8.9400e-01, 3.8597e-02],\n",
       "        [4.4675e-02, 2.9560e-01, 3.9925e-01],\n",
       "        [4.3659e-01, 9.5942e-01, 6.8103e-01],\n",
       "        [9.1782e-02, 9.7271e-01, 5.6309e-01],\n",
       "        [8.8068e-01, 2.9119e-02, 4.6537e-02],\n",
       "        [1.8728e-02, 4.2429e-01, 8.8037e-02],\n",
       "        [1.9335e-02, 1.0700e-01, 6.6299e-02],\n",
       "        [6.7525e-01, 1.3122e-01, 4.0121e-02],\n",
       "        [1.7401e-01, 8.5801e-02, 4.2992e-01],\n",
       "        [7.9594e-01, 7.3096e-01, 6.4511e-01],\n",
       "        [1.9619e-01, 7.9187e-01, 4.6275e-01],\n",
       "        [2.5771e-01, 9.1559e-01, 4.4329e-01],\n",
       "        [6.7566e-01, 3.8118e-01, 3.4193e-01],\n",
       "        [3.1311e-01, 3.7313e-02, 1.7575e-01],\n",
       "        [7.3616e-01, 3.6521e-01, 8.0628e-01],\n",
       "        [2.0636e-01, 7.8995e-02, 3.7138e-01],\n",
       "        [3.5644e-01, 1.7698e-01, 3.4549e-02],\n",
       "        [8.5339e-02, 9.6460e-01, 6.1955e-01],\n",
       "        [2.2635e-01, 6.3816e-01, 1.0400e-01],\n",
       "        [4.8720e-01, 5.6013e-01, 4.7006e-01],\n",
       "        [1.1475e-01, 6.8050e-01, 8.3492e-02],\n",
       "        [3.4019e-01, 6.3258e-01, 3.0201e-01],\n",
       "        [5.7301e-01, 4.7495e-01, 9.4299e-01],\n",
       "        [5.1270e-01, 5.7843e-01, 9.7441e-02],\n",
       "        [1.5669e-01, 6.5318e-01, 4.6416e-01],\n",
       "        [6.7951e-01, 6.0653e-01, 6.0700e-01],\n",
       "        [8.3523e-01, 1.5851e-01, 2.5297e-01],\n",
       "        [4.5666e-01, 7.3597e-01, 2.2691e-01],\n",
       "        [1.9087e-01, 5.6743e-01, 1.2675e-01],\n",
       "        [1.3748e-01, 6.8998e-01, 8.2084e-01],\n",
       "        [1.4345e-01, 8.6115e-01, 2.7689e-01],\n",
       "        [1.5772e-01, 4.9890e-01, 9.8019e-01],\n",
       "        [6.4587e-01, 3.0687e-01, 4.4451e-01],\n",
       "        [1.0375e-01, 7.4038e-02, 9.2720e-01],\n",
       "        [6.5824e-01, 6.0629e-02, 9.9508e-01],\n",
       "        [1.2001e-01, 2.4434e-01, 4.0753e-01],\n",
       "        [9.8019e-01, 8.8495e-01, 9.2153e-01],\n",
       "        [5.2563e-02, 9.9631e-01, 4.8236e-01],\n",
       "        [3.0057e-01, 8.7356e-01, 8.0042e-01],\n",
       "        [4.3687e-01, 9.8799e-01, 5.7684e-01],\n",
       "        [8.7366e-01, 4.7146e-01, 2.3629e-01],\n",
       "        [1.2742e-01, 3.5047e-01, 3.9668e-02],\n",
       "        [4.5768e-01, 2.1374e-03, 9.7242e-01],\n",
       "        [6.1780e-01, 6.0132e-01, 7.7797e-01],\n",
       "        [9.9578e-02, 6.8240e-01, 6.8610e-01],\n",
       "        [3.3724e-01, 6.3575e-01, 1.6336e-01],\n",
       "        [4.3111e-01, 5.3563e-01, 4.6228e-01],\n",
       "        [4.4636e-02, 3.8239e-01, 1.1589e-01],\n",
       "        [5.3218e-01, 4.5164e-01, 1.6339e-01],\n",
       "        [9.6894e-02, 4.9917e-01, 6.2208e-01],\n",
       "        [2.3939e-01, 4.1080e-01, 9.5730e-01],\n",
       "        [7.8201e-01, 3.9015e-01, 3.6672e-01],\n",
       "        [1.3725e-02, 9.6479e-01, 3.6726e-01],\n",
       "        [5.1354e-01, 4.4273e-01, 8.1423e-01],\n",
       "        [9.9014e-01, 4.9877e-01, 1.3387e-01],\n",
       "        [4.1628e-01, 4.2519e-01, 8.7072e-02],\n",
       "        [4.5537e-02, 3.5959e-01, 4.3933e-01],\n",
       "        [1.8204e-01, 8.6955e-01, 7.8782e-01]])"
      ]
     },
     "execution_count": 60,
     "metadata": {},
     "output_type": "execute_result"
    }
   ],
   "source": [
    "x_original[ 0, 0 :]"
   ]
  },
  {
   "cell_type": "markdown",
   "metadata": {},
   "source": [
    "`https://pytorch.org/docs/stable/generated/torch.permute.html` **for torch.permute**"
   ]
  },
  {
   "cell_type": "code",
   "execution_count": 61,
   "metadata": {},
   "outputs": [
    {
     "data": {
      "text/plain": [
       "tensor([[[1.0000, 0.4102, 0.4567],\n",
       "         [0.1048, 0.7171, 0.5270],\n",
       "         [0.3798, 0.5244, 0.9346],\n",
       "         ...,\n",
       "         [0.4163, 0.4252, 0.0871],\n",
       "         [0.0455, 0.3596, 0.4393],\n",
       "         [0.1820, 0.8696, 0.7878]],\n",
       "\n",
       "        [[0.1219, 0.3949, 0.4087],\n",
       "         [0.0955, 0.1049, 0.2841],\n",
       "         [0.7917, 0.7527, 0.0304],\n",
       "         ...,\n",
       "         [0.6643, 0.4520, 0.9418],\n",
       "         [0.0940, 0.2519, 0.5143],\n",
       "         [0.7545, 0.1632, 0.0255]],\n",
       "\n",
       "        [[0.7857, 0.1129, 0.8254],\n",
       "         [0.3352, 0.2077, 0.1645],\n",
       "         [0.7142, 0.1494, 0.2723],\n",
       "         ...,\n",
       "         [0.6984, 0.0420, 0.3112],\n",
       "         [0.0284, 0.6896, 0.8961],\n",
       "         [0.6458, 0.9348, 0.5660]],\n",
       "\n",
       "        ...,\n",
       "\n",
       "        [[0.2787, 0.6931, 0.7809],\n",
       "         [0.3363, 0.4995, 0.3731],\n",
       "         [0.1022, 0.4380, 0.6171],\n",
       "         ...,\n",
       "         [0.3167, 0.6137, 0.9254],\n",
       "         [0.3541, 0.6252, 0.9595],\n",
       "         [0.4715, 0.4419, 0.2679]],\n",
       "\n",
       "        [[0.4621, 0.5613, 0.8028],\n",
       "         [0.9274, 0.9378, 0.0303],\n",
       "         [0.1501, 0.9062, 0.8045],\n",
       "         ...,\n",
       "         [0.9261, 0.4137, 0.8808],\n",
       "         [0.0657, 0.5947, 0.0129],\n",
       "         [0.9351, 0.2897, 0.0651]],\n",
       "\n",
       "        [[0.8749, 0.7113, 0.8507],\n",
       "         [0.9527, 0.9021, 0.7004],\n",
       "         [0.9966, 0.6257, 0.8089],\n",
       "         ...,\n",
       "         [0.4376, 0.2694, 0.1500],\n",
       "         [0.4810, 0.4218, 0.2645],\n",
       "         [0.8121, 0.0508, 0.2466]]])"
      ]
     },
     "execution_count": 61,
     "metadata": {},
     "output_type": "execute_result"
    }
   ],
   "source": [
    "x_original[0, 0, 0] = 1\n",
    "x_original"
   ]
  },
  {
   "cell_type": "code",
   "execution_count": 62,
   "metadata": {},
   "outputs": [
    {
     "data": {
      "text/plain": [
       "(tensor(1.), tensor(1.))"
      ]
     },
     "execution_count": 62,
     "metadata": {},
     "output_type": "execute_result"
    }
   ],
   "source": [
    "x_original[0, 0, 0] = 1\n",
    "x_original[0, 0, 0], x_permuted[0, 0, 0]"
   ]
  },
  {
   "cell_type": "markdown",
   "metadata": {},
   "source": [
    "### **Indexing (selecting data from tensors)**\n",
    "\n",
    "indexing with Pytorch is very similar to Numpy"
   ]
  },
  {
   "cell_type": "code",
   "execution_count": 63,
   "metadata": {},
   "outputs": [
    {
     "data": {
      "text/plain": [
       "(tensor([[[1, 2, 3],\n",
       "          [4, 5, 6],\n",
       "          [7, 8, 9]]]),\n",
       " torch.Size([1, 3, 3]))"
      ]
     },
     "execution_count": 63,
     "metadata": {},
     "output_type": "execute_result"
    }
   ],
   "source": [
    "# create a tensor\n",
    "x = torch.arange(1, 10).reshape(1, 3, 3)\n",
    "x, x.shape"
   ]
  },
  {
   "cell_type": "code",
   "execution_count": 64,
   "metadata": {},
   "outputs": [
    {
     "data": {
      "text/plain": [
       "tensor([[1, 2, 3],\n",
       "        [4, 5, 6],\n",
       "        [7, 8, 9]])"
      ]
     },
     "execution_count": 64,
     "metadata": {},
     "output_type": "execute_result"
    }
   ],
   "source": [
    "#lets index on our new tensor\n",
    "x[0]"
   ]
  },
  {
   "cell_type": "code",
   "execution_count": 65,
   "metadata": {},
   "outputs": [
    {
     "data": {
      "text/plain": [
       "(tensor([1, 2, 3]), tensor([1, 2, 3]))"
      ]
     },
     "execution_count": 65,
     "metadata": {},
     "output_type": "execute_result"
    }
   ],
   "source": [
    "#lets index on the middle bracket\n",
    "x[0][0], x[0, 0]"
   ]
  },
  {
   "cell_type": "code",
   "execution_count": 66,
   "metadata": {},
   "outputs": [
    {
     "data": {
      "text/plain": [
       "tensor(9)"
      ]
     },
     "execution_count": 66,
     "metadata": {},
     "output_type": "execute_result"
    }
   ],
   "source": [
    "#lets index ont the most inner bracket(last bracket)\n",
    "x[0, 2, 2]"
   ]
  },
  {
   "cell_type": "code",
   "execution_count": 67,
   "metadata": {},
   "outputs": [
    {
     "data": {
      "text/plain": [
       "tensor([[1, 2, 3]])"
      ]
     },
     "execution_count": 67,
     "metadata": {},
     "output_type": "execute_result"
    }
   ],
   "source": [
    "#you can also use \":\" to select \"all\" of a target dimension\n",
    "x[:, 0]"
   ]
  },
  {
   "cell_type": "code",
   "execution_count": 68,
   "metadata": {},
   "outputs": [
    {
     "data": {
      "text/plain": [
       "tensor([[2, 5, 8]])"
      ]
     },
     "execution_count": 68,
     "metadata": {},
     "output_type": "execute_result"
    }
   ],
   "source": [
    "#get all values of 0th and 1st dimension but only index 1 of 2nd dimension\n",
    "x[:, :, 1]"
   ]
  },
  {
   "cell_type": "code",
   "execution_count": 69,
   "metadata": {},
   "outputs": [
    {
     "data": {
      "text/plain": [
       "tensor([1, 2, 3])"
      ]
     },
     "execution_count": 69,
     "metadata": {},
     "output_type": "execute_result"
    }
   ],
   "source": [
    "#get all values of the 0 dimension but only the 1 index value of the 1st and 2nd dimension\n",
    "x[0, 0, :]"
   ]
  },
  {
   "cell_type": "code",
   "execution_count": 70,
   "metadata": {},
   "outputs": [
    {
     "name": "stdout",
     "output_type": "stream",
     "text": [
      "tensor(9)\n",
      "tensor(3)\n"
     ]
    }
   ],
   "source": [
    "print(x[0,2,2])\n",
    "print(x[0, 0,2 ])"
   ]
  },
  {
   "cell_type": "markdown",
   "metadata": {},
   "source": [
    "### **Pytorch Tensor & Numpy**\n",
    "\n",
    "`Numpy is a popular scientific Python numerical computing Library.`\n",
    "`And becouse of this, Pytorch has functionality to interact with it`\n",
    "\n",
    "* **Data in Numpy, want in Pytorch Tensor**-> `torch.from_numpy(ndarray)`\n",
    "* **Pytorch Tensor -> Numpy** -> `torch.Tesnor.numpy()`\n"
   ]
  },
  {
   "cell_type": "code",
   "execution_count": 71,
   "metadata": {},
   "outputs": [],
   "source": [
    "import numpy as np"
   ]
  },
  {
   "cell_type": "code",
   "execution_count": 72,
   "metadata": {},
   "outputs": [
    {
     "data": {
      "text/plain": [
       "(tensor([1., 2., 3., 4., 5., 6., 7.], dtype=torch.float64),\n",
       " array([1., 2., 3., 4., 5., 6., 7.]))"
      ]
     },
     "execution_count": 72,
     "metadata": {},
     "output_type": "execute_result"
    }
   ],
   "source": [
    "array = np.arange(1.0, 8.0)\n",
    "tesnor = torch.from_numpy(array) # warning: when converting from numpy -> pytorch, pytorch reflects numpy's default datatype of 'float64' unless specified otherwise\n",
    "tesnor ,array"
   ]
  },
  {
   "cell_type": "code",
   "execution_count": 73,
   "metadata": {},
   "outputs": [
    {
     "data": {
      "text/plain": [
       "torch.float64"
      ]
     },
     "execution_count": 73,
     "metadata": {},
     "output_type": "execute_result"
    }
   ],
   "source": [
    "tesnor.dtype"
   ]
  },
  {
   "cell_type": "code",
   "execution_count": 74,
   "metadata": {},
   "outputs": [
    {
     "data": {
      "text/plain": [
       "torch.float64"
      ]
     },
     "execution_count": 74,
     "metadata": {},
     "output_type": "execute_result"
    }
   ],
   "source": [
    "tesnor.dtype"
   ]
  },
  {
   "cell_type": "code",
   "execution_count": 75,
   "metadata": {},
   "outputs": [
    {
     "data": {
      "text/plain": [
       "torch.float32"
      ]
     },
     "execution_count": 75,
     "metadata": {},
     "output_type": "execute_result"
    }
   ],
   "source": [
    "torch.arange(1.0, 8.0).dtype"
   ]
  },
  {
   "cell_type": "code",
   "execution_count": 76,
   "metadata": {},
   "outputs": [
    {
     "data": {
      "text/plain": [
       "(array([2., 3., 4., 5., 6., 7., 8.]),\n",
       " tensor([1., 2., 3., 4., 5., 6., 7.], dtype=torch.float64))"
      ]
     },
     "execution_count": 76,
     "metadata": {},
     "output_type": "execute_result"
    }
   ],
   "source": [
    "#Change the value of array , what will this to do in tesnor?\n",
    "array = array + 1\n",
    "array, tesnor"
   ]
  },
  {
   "cell_type": "code",
   "execution_count": 77,
   "metadata": {},
   "outputs": [
    {
     "data": {
      "text/plain": [
       "(tensor([1., 1., 1., 1., 1., 1., 1.]),\n",
       " array([1., 1., 1., 1., 1., 1., 1.], dtype=float32))"
      ]
     },
     "execution_count": 77,
     "metadata": {},
     "output_type": "execute_result"
    }
   ],
   "source": [
    "#Tesnor to Numpy array\n",
    "tensor = torch.ones(7)\n",
    "\n",
    "numpy_tensor = tensor.numpy()\n",
    "tensor, numpy_tensor"
   ]
  },
  {
   "cell_type": "code",
   "execution_count": 78,
   "metadata": {},
   "outputs": [
    {
     "data": {
      "text/plain": [
       "dtype('float32')"
      ]
     },
     "execution_count": 78,
     "metadata": {},
     "output_type": "execute_result"
    }
   ],
   "source": [
    "numpy_tensor.dtype"
   ]
  },
  {
   "cell_type": "code",
   "execution_count": 79,
   "metadata": {},
   "outputs": [
    {
     "data": {
      "text/plain": [
       "(tensor([2., 2., 2., 2., 2., 2., 2.]),\n",
       " array([1., 1., 1., 1., 1., 1., 1.], dtype=float32))"
      ]
     },
     "execution_count": 79,
     "metadata": {},
     "output_type": "execute_result"
    }
   ],
   "source": [
    "#change the tesnor , what will happen to numpy_tensor?\n",
    "tensor = tensor + 1\n",
    "tensor, numpy_tensor"
   ]
  },
  {
   "cell_type": "markdown",
   "metadata": {},
   "source": [
    "### Reproducbility (trying to take random out of random)\n",
    "\n",
    "in short how a neural network learns:\n",
    "\n",
    "`start with random numbers -> tesnor operations -> update random number to try and make them better representation of the data -> agian -> again ->again...`\n",
    "\n",
    "**To reduce the randomness in neural network  and Pytorch comes the concept of a** **`random seed.`**\n",
    "\n",
    "Essentially what the random seed does is `\"flavour\"` the randomness\n"
   ]
  },
  {
   "cell_type": "code",
   "execution_count": 80,
   "metadata": {},
   "outputs": [
    {
     "name": "stdout",
     "output_type": "stream",
     "text": [
      "tensor([[0.7973, 0.4685, 0.8805, 0.5287],\n",
      "        [0.9480, 0.7115, 0.4818, 0.7595],\n",
      "        [0.5538, 0.8359, 0.6675, 0.7966]])\n",
      "tensor([[0.6363, 0.7078, 0.1901, 0.2483],\n",
      "        [0.5364, 0.6849, 0.8663, 0.8443],\n",
      "        [0.9525, 0.2904, 0.7395, 0.4568]])\n",
      "tensor([[False, False, False, False],\n",
      "        [False, False, False, False],\n",
      "        [False, False, False, False]])\n"
     ]
    }
   ],
   "source": [
    "#create tow random tensors \n",
    "\n",
    "random_tesnor_A = torch.rand(3,4)\n",
    "random_tensor_B = torch.rand(3,4)\n",
    "\n",
    "print(random_tesnor_A)\n",
    "print(random_tensor_B)\n",
    "\n",
    "print(random_tesnor_A == random_tensor_B)"
   ]
  },
  {
   "cell_type": "markdown",
   "metadata": {},
   "source": []
  },
  {
   "cell_type": "code",
   "execution_count": 81,
   "metadata": {},
   "outputs": [
    {
     "name": "stdout",
     "output_type": "stream",
     "text": [
      "tensor([[0.4963, 0.7682, 0.0885, 0.1320],\n",
      "        [0.3074, 0.6341, 0.4901, 0.8964],\n",
      "        [0.4556, 0.6323, 0.3489, 0.4017]])\n",
      "tensor([[0.4963, 0.7682, 0.0885, 0.1320],\n",
      "        [0.3074, 0.6341, 0.4901, 0.8964],\n",
      "        [0.4556, 0.6323, 0.3489, 0.4017]])\n",
      "tensor([[True, True, True, True],\n",
      "        [True, True, True, True],\n",
      "        [True, True, True, True]])\n"
     ]
    }
   ],
   "source": [
    "# lets`s make some random but reproducible tensors\n",
    "\n",
    "#set random seed\n",
    "RANDOM_SEED = 0\n",
    "torch.manual_seed(RANDOM_SEED)\n",
    "random_tensor_c = torch.rand(3,4)\n",
    "\n",
    "torch.manual_seed(RANDOM_SEED)\n",
    "random_tensor_d = torch.rand(3,4)\n",
    "\n",
    "print(random_tensor_c)\n",
    "print(random_tensor_d)\n",
    "print(random_tensor_c == random_tensor_d)\n"
   ]
  },
  {
   "cell_type": "markdown",
   "metadata": {},
   "source": [
    "**`Extra resources for Reproducibility`**\n",
    "\n",
    "*https://pytorch.org/docs/stable/generated/torch.manual_seed.html*\n",
    "\n",
    "*https://pytorch.org/docs/stable/notes/randomness.html*"
   ]
  },
  {
   "cell_type": "markdown",
   "metadata": {},
   "source": [
    "### **Running tensor and Pytorch objects on the GPU's (and making fastre computations)**\n",
    "\n",
    "Gpus= faster computation on numbers becouse of cuda (paparallel)\n",
    "\n",
    "• Getting a GPU\n"
   ]
  },
  {
   "cell_type": "code",
   "execution_count": 82,
   "metadata": {},
   "outputs": [
    {
     "data": {
      "text/plain": [
       "True"
      ]
     },
     "execution_count": 82,
     "metadata": {},
     "output_type": "execute_result"
    }
   ],
   "source": [
    "torch.cuda.is_available()"
   ]
  },
  {
   "cell_type": "markdown",
   "metadata": {},
   "source": [
    "For pytorch since it's capable of running compute on the GPU or CPU, it's best practice to setup device agnostic code:\n",
    "\n",
    "https://pytorch.org/docs/stable/notes/cuda.html\n",
    "\n",
    "E.g Run on `GPU` if available, else defoult to `CPU`"
   ]
  },
  {
   "cell_type": "code",
   "execution_count": 83,
   "metadata": {},
   "outputs": [
    {
     "data": {
      "text/plain": [
       "'cuda'"
      ]
     },
     "execution_count": 83,
     "metadata": {},
     "output_type": "execute_result"
    }
   ],
   "source": [
    "#setup device agnostic code\n",
    "device = \"cuda\" if torch.cuda.is_available() else \"cpu\"\n",
    "device"
   ]
  },
  {
   "cell_type": "markdown",
   "metadata": {},
   "source": [
    "### 3• Putting tesnor (and models) on the `GPU`\n",
    "\n",
    "The resons we want our tensor/model on the GPU becouse using a GPU results in faster computations."
   ]
  },
  {
   "cell_type": "code",
   "execution_count": 84,
   "metadata": {},
   "outputs": [
    {
     "name": "stdout",
     "output_type": "stream",
     "text": [
      "tensor([1, 2, 3]) cpu\n"
     ]
    }
   ],
   "source": [
    "#create a tensor (default on the CPU)\n",
    "tesnor = torch.tensor([1,2,3])\n",
    "\n",
    "#tensor not on GpU\n",
    "print(tesnor,tesnor.device)"
   ]
  },
  {
   "cell_type": "code",
   "execution_count": 85,
   "metadata": {},
   "outputs": [
    {
     "data": {
      "text/plain": [
       "tensor([1, 2, 3], device='cuda:0')"
      ]
     },
     "execution_count": 85,
     "metadata": {},
     "output_type": "execute_result"
    }
   ],
   "source": [
    "# Move tesnor to GPU if available\n",
    "tensor_on_gpu = tesnor.to(device)\n",
    "tensor_on_gpu"
   ]
  },
  {
   "cell_type": "markdown",
   "metadata": {},
   "source": [
    "### 4• Moving tesnor to the CPU\n",
    "\n",
    "(some times when you need to run the model of `numpy` that dosnt work on gpu so you need to switch between GPU to CPU vice versa)"
   ]
  },
  {
   "cell_type": "code",
   "execution_count": 86,
   "metadata": {},
   "outputs": [],
   "source": [
    "# if tesnor is on GPU, can't transform it to NumPy\n",
    "#tensor_on_gpu.numpy()"
   ]
  },
  {
   "cell_type": "markdown",
   "metadata": {},
   "source": [
    "`can't convert cuda:0 device type tensor to numpy. Use Tensor.cpu() to copy the tensor to host memory first`"
   ]
  },
  {
   "cell_type": "code",
   "execution_count": 87,
   "metadata": {},
   "outputs": [
    {
     "data": {
      "text/plain": [
       "array([1, 2, 3], dtype=int64)"
      ]
     },
     "execution_count": 87,
     "metadata": {},
     "output_type": "execute_result"
    }
   ],
   "source": [
    "#to fix the issue, we can first set it to the CPU\n",
    "tensor_back_on_cpu = tensor_on_gpu.cpu().numpy()\n",
    "tensor_back_on_cpu"
   ]
  },
  {
   "cell_type": "code",
   "execution_count": 88,
   "metadata": {},
   "outputs": [
    {
     "data": {
      "text/plain": [
       "tensor([1, 2, 3], device='cuda:0')"
      ]
     },
     "execution_count": 88,
     "metadata": {},
     "output_type": "execute_result"
    }
   ],
   "source": [
    "tensor_on_gpu"
   ]
  },
  {
   "cell_type": "markdown",
   "metadata": {},
   "source": [
    "### 6.2 Building a pytorch Linear model\n"
   ]
  },
  {
   "cell_type": "code",
   "execution_count": 90,
   "metadata": {},
   "outputs": [
    {
     "ename": "NameError",
     "evalue": "name 'nn' is not defined",
     "output_type": "error",
     "traceback": [
      "\u001b[1;31m---------------------------------------------------------------------------\u001b[0m",
      "\u001b[1;31mNameError\u001b[0m                                 Traceback (most recent call last)",
      "Cell \u001b[1;32mIn[90], line 2\u001b[0m\n\u001b[0;32m      1\u001b[0m \u001b[38;5;66;03m#create a linear layer model by subclassing nn.Module\u001b[39;00m\n\u001b[1;32m----> 2\u001b[0m \u001b[38;5;28;01mclass\u001b[39;00m \u001b[38;5;21;01mLinearRegressionModelv2\u001b[39;00m(\u001b[43mnn\u001b[49m\u001b[38;5;241m.\u001b[39mmodule):\n\u001b[0;32m      3\u001b[0m     \u001b[38;5;28;01mdef\u001b[39;00m \u001b[38;5;21m__init__\u001b[39m(\u001b[38;5;28mself\u001b[39m):\n\u001b[0;32m      4\u001b[0m         \u001b[38;5;28msuper\u001b[39m()\u001b[38;5;241m.\u001b[39m\u001b[38;5;21m__init__\u001b[39m()\n",
      "\u001b[1;31mNameError\u001b[0m: name 'nn' is not defined"
     ]
    }
   ],
   "source": [
    "#create a linear layer model by subclassing nn.Module\n",
    "class LinearRegressionModelv2(nn.module):\n",
    "    def __init__(self):\n",
    "        super().__init__()\n",
    "        # USe nn.linear() for creating the model parameters\n",
    "        self.linear_layer = nn.linear(in_features = 1, out_features = 1)\n",
    "\n",
    "    #def forward(self, x: torch.Tensor) -> torch.Tensor:"
   ]
  },
  {
   "cell_type": "code",
   "execution_count": null,
   "metadata": {},
   "outputs": [],
   "source": []
  }
 ],
 "metadata": {
  "kernelspec": {
   "display_name": "Python 3",
   "language": "python",
   "name": "python3"
  },
  "language_info": {
   "codemirror_mode": {
    "name": "ipython",
    "version": 3
   },
   "file_extension": ".py",
   "mimetype": "text/x-python",
   "name": "python",
   "nbconvert_exporter": "python",
   "pygments_lexer": "ipython3",
   "version": "3.12.3"
  }
 },
 "nbformat": 4,
 "nbformat_minor": 2
}
