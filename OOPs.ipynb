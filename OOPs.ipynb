{
 "cells": [
  {
   "cell_type": "markdown",
   "metadata": {},
   "source": [
    "# **OOps Programing**"
   ]
  },
  {
   "cell_type": "code",
   "execution_count": 1,
   "metadata": {},
   "outputs": [
    {
     "name": "stdout",
     "output_type": "stream",
     "text": [
      "AMD Ryzen 7 7840HS, 16gb, 1tb\n",
      "AMD Ryzen 7 7840HS, 16gb, 1tb\n"
     ]
    }
   ],
   "source": [
    "class Computer: # Class\n",
    "    \n",
    "    def config(self):# Attribute -> Variables : Behaviou -> Functions(methods)\n",
    "        print(\"AMD Ryzen 7 7840HS, 16gb, 1tb\")\n",
    "\n",
    "\n",
    "comp1 = Computer() # Object\n",
    "comp2 = Computer()#object but different instance but write now they have same config() method\n",
    "\n",
    "comp1.config() # if we just write config() it will give error Because it is not the instance of the class so we need to define it by comp1.config()\n",
    "#Computer.config(comp1) #it same as above\n",
    "\n",
    "comp2.config()\n"
   ]
  },
  {
   "cell_type": "markdown",
   "metadata": {},
   "source": [
    "class Computer:  # Class definition\n",
    "    \n",
    "    def config(self):  # Method definition (config method)\n",
    "        return \"AMD Ryzen 7 7840HS, 16GB, 1TB\"  # Return the computer's configuration\n",
    "\n",
    "# Creating instances of the Computer class\n",
    "comp1 = Computer()  # Object instantiation\n",
    "comp2 = Computer()  # Another object instantiation\n",
    "\n",
    "# Calling the config method and capturing the output for comp1\n",
    "config_output1 = comp1.config()\n",
    "print(f\"comp1 has the config {config_output1}\")  # This will print \"comp1 has the config AMD Ryzen 7 7840HS, 16GB, 1TB\"\n",
    "\n",
    "# Calling the config method and capturing the output for comp2\n",
    "config_output2 = comp2.config()\n",
    "print(f\"comp2 has the config {config_output2}\")  # This will print \"comp2 has the config AMD Ryzen 7 7840HS, 16GB, 1TB\"\n"
   ]
  },
  {
   "cell_type": "markdown",
   "metadata": {},
   "source": [
    "# •**`__init__ Method`**\n",
    "if its have \"__ anything __\" they defined as special veriables    "
   ]
  },
  {
   "cell_type": "code",
   "execution_count": 2,
   "metadata": {},
   "outputs": [
    {
     "name": "stdout",
     "output_type": "stream",
     "text": [
      "in init\n",
      "in init\n",
      "config i7 16 1\n",
      "config Ryzen 7 32 1\n"
     ]
    }
   ],
   "source": [
    "class Computer:\n",
    "    def __init__(self, cpu, ram, memory):\n",
    "        self.cpu = cpu\n",
    "        self.ram = ram\n",
    "        self.memory = memory\n",
    "        print(\"in init\")\n",
    "\n",
    "    def config(self):\n",
    "        print(\"config\", self.cpu, self.ram, self.memory)\n",
    "\n",
    "com1 = Computer('i7', 16, 1)\n",
    "com2 = Computer('Ryzen 7', 32, 1)\n",
    "\n",
    "com1.config()\n",
    "com2.config()\n",
    "\n"
   ]
  },
  {
   "cell_type": "markdown",
   "metadata": {},
   "source": [
    "### 1• Constructor, Self\n",
    "       And\n",
    "### 2•Comparing Objects\n",
    "       in\n",
    "### 3•Python\n"
   ]
  },
  {
   "cell_type": "code",
   "execution_count": 3,
   "metadata": {},
   "outputs": [
    {
     "name": "stdout",
     "output_type": "stream",
     "text": [
      "different\n"
     ]
    }
   ],
   "source": [
    "class computer:\n",
    "    \n",
    "    def __init__(self):\n",
    "        self.name = \"hp\"\n",
    "        self.wtp = 2\n",
    "\n",
    "    def compare(self, other):\n",
    "        if self.wtp == other.wtp:\n",
    "            return True\n",
    "        else:\n",
    "            return False\n",
    "# Size of an object?\n",
    "## > Depends on the no. of varibales and size of each variable\n",
    "\n",
    "# Who allocate size to object?\n",
    "## > Memory\n",
    "\n",
    "c1 = computer() # this is `constructor`\n",
    "c1.wtp = 1\n",
    "c2 = computer() # it is also `constructor` and it will call `init` automaticaly when we create object internally'\n",
    "#print(id(c1))\n",
    "#print(id(c2))\n",
    "\n",
    "#compare (who is calling, whom to compare)\n",
    "if c1.compare(c2):\n",
    "    print(\"same\")\n",
    "else:\n",
    "    print(\"different\")\n",
    "    "
   ]
  },
  {
   "cell_type": "markdown",
   "metadata": {},
   "source": [
    "#### **Types of varibale In Pyhton**"
   ]
  },
  {
   "cell_type": "code",
   "execution_count": 4,
   "metadata": {},
   "outputs": [
    {
     "name": "stdout",
     "output_type": "stream",
     "text": [
      "BMW 10 4\n",
      "BMW 10 4\n"
     ]
    }
   ],
   "source": [
    "class car:\n",
    "     \n",
    "     wheele =4 #class variable AKA static variable\n",
    "\n",
    "     def __init__(self): #instance variable\n",
    "          self.mil = 10\n",
    "          self.com = \"BMW\"\n",
    "\n",
    "c1 = car()\n",
    "c2 = car()\n",
    "\n",
    "print(c1.com, c1.mil, c1.wheele)\n",
    "print(c2.com, c2.mil, c2.wheele)"
   ]
  },
  {
   "cell_type": "markdown",
   "metadata": {},
   "source": [
    "### **Types of methods in Python**\n",
    "\n",
    "• Instance methods -> types #Accessor methods(get)\n",
    "\n",
    "``````````````,``````````````#Mutator methods(set)    \n",
    "\n",
    "\n",
    "• Class Methods\n",
    "\n",
    "• Static methods\n",
    "\n"
   ]
  },
  {
   "cell_type": "code",
   "execution_count": 5,
   "metadata": {},
   "outputs": [
    {
     "name": "stdout",
     "output_type": "stream",
     "text": [
      "56.0 61.666666666666664 69.66666666666667\n"
     ]
    }
   ],
   "source": [
    "class student:\n",
    "\n",
    "    school = 'DUVP'\n",
    "\n",
    "    def __init__(self, m1, m2, m3):\n",
    "        self.m1 = m1\n",
    "        self.m2 = m2\n",
    "        self.m3 = m3\n",
    "\n",
    "    def avg(self):\n",
    "        return (self.m1 + self.m2 + self.m3)/3\n",
    "    def get_m1(self):\n",
    "        return self.m1\n",
    "    def set_m1(self, value):\n",
    "        self.m1 = value\n",
    "\n",
    "s1 = student(34, 56, 78)\n",
    "s2 = student(38, 59, 88)\n",
    "s3 = student(44, 66, 99)\n",
    "\n",
    "print(s1.avg(), s2.avg(), s3.avg())\n"
   ]
  },
  {
   "cell_type": "code",
   "execution_count": null,
   "metadata": {},
   "outputs": [],
   "source": []
  }
 ],
 "metadata": {
  "kernelspec": {
   "display_name": "Python 3",
   "language": "python",
   "name": "python3"
  },
  "language_info": {
   "codemirror_mode": {
    "name": "ipython",
    "version": 3
   },
   "file_extension": ".py",
   "mimetype": "text/x-python",
   "name": "python",
   "nbconvert_exporter": "python",
   "pygments_lexer": "ipython3",
   "version": "3.12.3"
  }
 },
 "nbformat": 4,
 "nbformat_minor": 2
}
